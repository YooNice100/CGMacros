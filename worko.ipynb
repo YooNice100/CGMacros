{
 "cells": [
  {
   "cell_type": "code",
   "execution_count": 8,
   "metadata": {},
   "outputs": [],
   "source": [
    "import pandas as pd\n",
    "import numpy as np\n",
    "import glob\n",
    "import matplotlib.pyplot as plt\n",
    "import seaborn as sns"
   ]
  },
  {
   "cell_type": "code",
   "execution_count": null,
   "metadata": {},
   "outputs": [],
   "source": [
    "# # get all csv file paths from data folder\n",
    "# csv_files = glob.glob(\"data/CGMacros-*.csv\")  \n",
    "\n",
    "# # columns we want to keep\n",
    "# selected_columns = [\"Timestamp\", \"Libre GL\", \"Dexcom GL\", \"HR\", \"Calories\", \"Meal Type\", \"Carbs\", \"Protein\", \"Fat\", \"Fiber\"]\n",
    "\n",
    "\n",
    "# # list storing data frames per participant\n",
    "# data_list = []\n",
    "\n",
    "# for file in csv_files:\n",
    "#     df = pd.read_csv(file)\n",
    "#     df[\"subject\"] = int(file.split(\"-\")[-1].split(\".\")[0]) \n",
    "#     df = df[[\"subject\"] + selected_columns]\n",
    "#     data_list.append(df)  \n",
    "\n",
    "# merged_df = pd.concat(data_list, ignore_index=True)"
   ]
  },
  {
   "cell_type": "code",
   "execution_count": null,
   "metadata": {},
   "outputs": [],
   "source": [
    "# # keep this commented out because we already have the all_data.csv\n",
    "# merged_df.to_csv(\"all_data.csv\", index=False)"
   ]
  },
  {
   "cell_type": "code",
   "execution_count": 12,
   "metadata": {},
   "outputs": [],
   "source": [
    "df = pd.read_csv('all_data.csv')"
   ]
  },
  {
   "cell_type": "code",
   "execution_count": 13,
   "metadata": {},
   "outputs": [
    {
     "data": {
      "text/html": [
       "<div>\n",
       "<style scoped>\n",
       "    .dataframe tbody tr th:only-of-type {\n",
       "        vertical-align: middle;\n",
       "    }\n",
       "\n",
       "    .dataframe tbody tr th {\n",
       "        vertical-align: top;\n",
       "    }\n",
       "\n",
       "    .dataframe thead th {\n",
       "        text-align: right;\n",
       "    }\n",
       "</style>\n",
       "<table border=\"1\" class=\"dataframe\">\n",
       "  <thead>\n",
       "    <tr style=\"text-align: right;\">\n",
       "      <th></th>\n",
       "      <th>subject</th>\n",
       "      <th>Timestamp</th>\n",
       "      <th>Libre GL</th>\n",
       "      <th>Dexcom GL</th>\n",
       "      <th>HR</th>\n",
       "      <th>Calories</th>\n",
       "      <th>Meal Type</th>\n",
       "      <th>Carbs</th>\n",
       "      <th>Protein</th>\n",
       "      <th>Fat</th>\n",
       "      <th>Fiber</th>\n",
       "    </tr>\n",
       "  </thead>\n",
       "  <tbody>\n",
       "    <tr>\n",
       "      <th>0</th>\n",
       "      <td>1</td>\n",
       "      <td>2020-05-01 10:30:00</td>\n",
       "      <td>84.000000</td>\n",
       "      <td>NaN</td>\n",
       "      <td>56.0</td>\n",
       "      <td>NaN</td>\n",
       "      <td>NaN</td>\n",
       "      <td>NaN</td>\n",
       "      <td>NaN</td>\n",
       "      <td>NaN</td>\n",
       "      <td>NaN</td>\n",
       "    </tr>\n",
       "    <tr>\n",
       "      <th>1</th>\n",
       "      <td>1</td>\n",
       "      <td>2020-05-01 10:31:00</td>\n",
       "      <td>84.133333</td>\n",
       "      <td>NaN</td>\n",
       "      <td>56.0</td>\n",
       "      <td>NaN</td>\n",
       "      <td>NaN</td>\n",
       "      <td>NaN</td>\n",
       "      <td>NaN</td>\n",
       "      <td>NaN</td>\n",
       "      <td>NaN</td>\n",
       "    </tr>\n",
       "    <tr>\n",
       "      <th>2</th>\n",
       "      <td>1</td>\n",
       "      <td>2020-05-01 10:32:00</td>\n",
       "      <td>84.266667</td>\n",
       "      <td>NaN</td>\n",
       "      <td>57.0</td>\n",
       "      <td>NaN</td>\n",
       "      <td>NaN</td>\n",
       "      <td>NaN</td>\n",
       "      <td>NaN</td>\n",
       "      <td>NaN</td>\n",
       "      <td>NaN</td>\n",
       "    </tr>\n",
       "    <tr>\n",
       "      <th>3</th>\n",
       "      <td>1</td>\n",
       "      <td>2020-05-01 10:33:00</td>\n",
       "      <td>84.400000</td>\n",
       "      <td>NaN</td>\n",
       "      <td>54.0</td>\n",
       "      <td>NaN</td>\n",
       "      <td>NaN</td>\n",
       "      <td>NaN</td>\n",
       "      <td>NaN</td>\n",
       "      <td>NaN</td>\n",
       "      <td>NaN</td>\n",
       "    </tr>\n",
       "    <tr>\n",
       "      <th>4</th>\n",
       "      <td>1</td>\n",
       "      <td>2020-05-01 10:34:00</td>\n",
       "      <td>84.533333</td>\n",
       "      <td>NaN</td>\n",
       "      <td>55.0</td>\n",
       "      <td>NaN</td>\n",
       "      <td>NaN</td>\n",
       "      <td>NaN</td>\n",
       "      <td>NaN</td>\n",
       "      <td>NaN</td>\n",
       "      <td>NaN</td>\n",
       "    </tr>\n",
       "    <tr>\n",
       "      <th>...</th>\n",
       "      <td>...</td>\n",
       "      <td>...</td>\n",
       "      <td>...</td>\n",
       "      <td>...</td>\n",
       "      <td>...</td>\n",
       "      <td>...</td>\n",
       "      <td>...</td>\n",
       "      <td>...</td>\n",
       "      <td>...</td>\n",
       "      <td>...</td>\n",
       "      <td>...</td>\n",
       "    </tr>\n",
       "    <tr>\n",
       "      <th>687575</th>\n",
       "      <td>49</td>\n",
       "      <td>2025-05-22 00:03:00</td>\n",
       "      <td>262.000000</td>\n",
       "      <td>NaN</td>\n",
       "      <td>NaN</td>\n",
       "      <td>NaN</td>\n",
       "      <td>NaN</td>\n",
       "      <td>NaN</td>\n",
       "      <td>NaN</td>\n",
       "      <td>NaN</td>\n",
       "      <td>NaN</td>\n",
       "    </tr>\n",
       "    <tr>\n",
       "      <th>687576</th>\n",
       "      <td>49</td>\n",
       "      <td>2025-05-22 00:04:00</td>\n",
       "      <td>261.600000</td>\n",
       "      <td>NaN</td>\n",
       "      <td>NaN</td>\n",
       "      <td>NaN</td>\n",
       "      <td>NaN</td>\n",
       "      <td>NaN</td>\n",
       "      <td>NaN</td>\n",
       "      <td>NaN</td>\n",
       "      <td>NaN</td>\n",
       "    </tr>\n",
       "    <tr>\n",
       "      <th>687577</th>\n",
       "      <td>49</td>\n",
       "      <td>2025-05-22 00:05:00</td>\n",
       "      <td>261.200000</td>\n",
       "      <td>NaN</td>\n",
       "      <td>NaN</td>\n",
       "      <td>NaN</td>\n",
       "      <td>NaN</td>\n",
       "      <td>NaN</td>\n",
       "      <td>NaN</td>\n",
       "      <td>NaN</td>\n",
       "      <td>NaN</td>\n",
       "    </tr>\n",
       "    <tr>\n",
       "      <th>687578</th>\n",
       "      <td>49</td>\n",
       "      <td>2025-05-22 00:06:00</td>\n",
       "      <td>260.800000</td>\n",
       "      <td>NaN</td>\n",
       "      <td>NaN</td>\n",
       "      <td>NaN</td>\n",
       "      <td>NaN</td>\n",
       "      <td>NaN</td>\n",
       "      <td>NaN</td>\n",
       "      <td>NaN</td>\n",
       "      <td>NaN</td>\n",
       "    </tr>\n",
       "    <tr>\n",
       "      <th>687579</th>\n",
       "      <td>49</td>\n",
       "      <td>2025-05-22 00:07:00</td>\n",
       "      <td>260.400000</td>\n",
       "      <td>NaN</td>\n",
       "      <td>NaN</td>\n",
       "      <td>NaN</td>\n",
       "      <td>NaN</td>\n",
       "      <td>NaN</td>\n",
       "      <td>NaN</td>\n",
       "      <td>NaN</td>\n",
       "      <td>NaN</td>\n",
       "    </tr>\n",
       "  </tbody>\n",
       "</table>\n",
       "<p>687580 rows × 11 columns</p>\n",
       "</div>"
      ],
      "text/plain": [
       "        subject            Timestamp    Libre GL  Dexcom GL    HR  Calories  \\\n",
       "0             1  2020-05-01 10:30:00   84.000000        NaN  56.0       NaN   \n",
       "1             1  2020-05-01 10:31:00   84.133333        NaN  56.0       NaN   \n",
       "2             1  2020-05-01 10:32:00   84.266667        NaN  57.0       NaN   \n",
       "3             1  2020-05-01 10:33:00   84.400000        NaN  54.0       NaN   \n",
       "4             1  2020-05-01 10:34:00   84.533333        NaN  55.0       NaN   \n",
       "...         ...                  ...         ...        ...   ...       ...   \n",
       "687575       49  2025-05-22 00:03:00  262.000000        NaN   NaN       NaN   \n",
       "687576       49  2025-05-22 00:04:00  261.600000        NaN   NaN       NaN   \n",
       "687577       49  2025-05-22 00:05:00  261.200000        NaN   NaN       NaN   \n",
       "687578       49  2025-05-22 00:06:00  260.800000        NaN   NaN       NaN   \n",
       "687579       49  2025-05-22 00:07:00  260.400000        NaN   NaN       NaN   \n",
       "\n",
       "       Meal Type  Carbs  Protein  Fat  Fiber  \n",
       "0            NaN    NaN      NaN  NaN    NaN  \n",
       "1            NaN    NaN      NaN  NaN    NaN  \n",
       "2            NaN    NaN      NaN  NaN    NaN  \n",
       "3            NaN    NaN      NaN  NaN    NaN  \n",
       "4            NaN    NaN      NaN  NaN    NaN  \n",
       "...          ...    ...      ...  ...    ...  \n",
       "687575       NaN    NaN      NaN  NaN    NaN  \n",
       "687576       NaN    NaN      NaN  NaN    NaN  \n",
       "687577       NaN    NaN      NaN  NaN    NaN  \n",
       "687578       NaN    NaN      NaN  NaN    NaN  \n",
       "687579       NaN    NaN      NaN  NaN    NaN  \n",
       "\n",
       "[687580 rows x 11 columns]"
      ]
     },
     "execution_count": 13,
     "metadata": {},
     "output_type": "execute_result"
    }
   ],
   "source": [
    "df"
   ]
  },
  {
   "cell_type": "code",
   "execution_count": 14,
   "metadata": {},
   "outputs": [],
   "source": [
    "bio_df = pd.read_csv('bio.csv')"
   ]
  },
  {
   "cell_type": "code",
   "execution_count": 15,
   "metadata": {},
   "outputs": [],
   "source": [
    "# only keeping columns we want from bio.csv\n",
    "bio_df = bio_df[[\"subject\", \"A1c PDL (Lab)\"]].rename(columns={\"A1c PDL (Lab)\": \"HbA1c\"})\n",
    "\n",
    "# merge df with bio_df\n",
    "merged_data = df.merge(bio_df, on=\"subject\", how=\"left\")\n",
    "\n",
    "\n",
    "# classify participants into Diabetes status groups\n",
    "def classify_diabetes(hba1c):\n",
    "    if hba1c < 5.7:\n",
    "        return \"No Diabetes\"\n",
    "    elif 5.7 <= hba1c <= 6.4:\n",
    "        return \"Pre-Diabetes\"\n",
    "    else:\n",
    "        return \"Type 2 Diabetes\"\n",
    "\n",
    "\n",
    "merged_data[\"Diabetes Status\"] = merged_data[\"HbA1c\"].apply(classify_diabetes)\n",
    "\n",
    "\n",
    "def clean_meal_type(meal):\n",
    "    if isinstance(meal, str):  \n",
    "        meal = meal.lower()  \n",
    "        if \"snack\" in meal:  \n",
    "            return \"Snack\"\n",
    "        elif \"breakfast\" in meal:\n",
    "            return \"Breakfast\"\n",
    "        elif \"lunch\" in meal:\n",
    "            return \"Lunch\"\n",
    "        elif \"dinner\" in meal:\n",
    "            return \"Dinner\"\n",
    "    return meal \n",
    "\n",
    "merged_data[\"Meal Type\"] = merged_data[\"Meal Type\"].apply(clean_meal_type)\n",
    "\n",
    "merged_data[\"Timestamp\"] = pd.to_datetime(merged_data[\"Timestamp\"])\n",
    "\n",
    "\n",
    "# split into separate dataframes\n",
    "no_diabetes_df = merged_data[merged_data[\"Diabetes Status\"] == \"No Diabetes\"]\n",
    "pre_diabetes_df = merged_data[merged_data[\"Diabetes Status\"] == \"Pre-Diabetes\"]\n",
    "t2d_df = merged_data[merged_data[\"Diabetes Status\"] == \"Type 2 Diabetes\"]\n",
    "\n"
   ]
  },
  {
   "cell_type": "code",
   "execution_count": 16,
   "metadata": {},
   "outputs": [
    {
     "data": {
      "text/html": [
       "<div>\n",
       "<style scoped>\n",
       "    .dataframe tbody tr th:only-of-type {\n",
       "        vertical-align: middle;\n",
       "    }\n",
       "\n",
       "    .dataframe tbody tr th {\n",
       "        vertical-align: top;\n",
       "    }\n",
       "\n",
       "    .dataframe thead th {\n",
       "        text-align: right;\n",
       "    }\n",
       "</style>\n",
       "<table border=\"1\" class=\"dataframe\">\n",
       "  <thead>\n",
       "    <tr style=\"text-align: right;\">\n",
       "      <th></th>\n",
       "      <th>subject</th>\n",
       "      <th>Timestamp</th>\n",
       "      <th>Libre GL</th>\n",
       "      <th>Dexcom GL</th>\n",
       "      <th>HR</th>\n",
       "      <th>Calories</th>\n",
       "      <th>Meal Type</th>\n",
       "      <th>Carbs</th>\n",
       "      <th>Protein</th>\n",
       "      <th>Fat</th>\n",
       "      <th>Fiber</th>\n",
       "      <th>HbA1c</th>\n",
       "      <th>Diabetes Status</th>\n",
       "    </tr>\n",
       "  </thead>\n",
       "  <tbody>\n",
       "    <tr>\n",
       "      <th>0</th>\n",
       "      <td>1</td>\n",
       "      <td>2020-05-01 10:30:00</td>\n",
       "      <td>84.000000</td>\n",
       "      <td>NaN</td>\n",
       "      <td>56.0</td>\n",
       "      <td>NaN</td>\n",
       "      <td>NaN</td>\n",
       "      <td>NaN</td>\n",
       "      <td>NaN</td>\n",
       "      <td>NaN</td>\n",
       "      <td>NaN</td>\n",
       "      <td>5.4</td>\n",
       "      <td>No Diabetes</td>\n",
       "    </tr>\n",
       "    <tr>\n",
       "      <th>1</th>\n",
       "      <td>1</td>\n",
       "      <td>2020-05-01 10:31:00</td>\n",
       "      <td>84.133333</td>\n",
       "      <td>NaN</td>\n",
       "      <td>56.0</td>\n",
       "      <td>NaN</td>\n",
       "      <td>NaN</td>\n",
       "      <td>NaN</td>\n",
       "      <td>NaN</td>\n",
       "      <td>NaN</td>\n",
       "      <td>NaN</td>\n",
       "      <td>5.4</td>\n",
       "      <td>No Diabetes</td>\n",
       "    </tr>\n",
       "    <tr>\n",
       "      <th>2</th>\n",
       "      <td>1</td>\n",
       "      <td>2020-05-01 10:32:00</td>\n",
       "      <td>84.266667</td>\n",
       "      <td>NaN</td>\n",
       "      <td>57.0</td>\n",
       "      <td>NaN</td>\n",
       "      <td>NaN</td>\n",
       "      <td>NaN</td>\n",
       "      <td>NaN</td>\n",
       "      <td>NaN</td>\n",
       "      <td>NaN</td>\n",
       "      <td>5.4</td>\n",
       "      <td>No Diabetes</td>\n",
       "    </tr>\n",
       "    <tr>\n",
       "      <th>3</th>\n",
       "      <td>1</td>\n",
       "      <td>2020-05-01 10:33:00</td>\n",
       "      <td>84.400000</td>\n",
       "      <td>NaN</td>\n",
       "      <td>54.0</td>\n",
       "      <td>NaN</td>\n",
       "      <td>NaN</td>\n",
       "      <td>NaN</td>\n",
       "      <td>NaN</td>\n",
       "      <td>NaN</td>\n",
       "      <td>NaN</td>\n",
       "      <td>5.4</td>\n",
       "      <td>No Diabetes</td>\n",
       "    </tr>\n",
       "    <tr>\n",
       "      <th>4</th>\n",
       "      <td>1</td>\n",
       "      <td>2020-05-01 10:34:00</td>\n",
       "      <td>84.533333</td>\n",
       "      <td>NaN</td>\n",
       "      <td>55.0</td>\n",
       "      <td>NaN</td>\n",
       "      <td>NaN</td>\n",
       "      <td>NaN</td>\n",
       "      <td>NaN</td>\n",
       "      <td>NaN</td>\n",
       "      <td>NaN</td>\n",
       "      <td>5.4</td>\n",
       "      <td>No Diabetes</td>\n",
       "    </tr>\n",
       "    <tr>\n",
       "      <th>...</th>\n",
       "      <td>...</td>\n",
       "      <td>...</td>\n",
       "      <td>...</td>\n",
       "      <td>...</td>\n",
       "      <td>...</td>\n",
       "      <td>...</td>\n",
       "      <td>...</td>\n",
       "      <td>...</td>\n",
       "      <td>...</td>\n",
       "      <td>...</td>\n",
       "      <td>...</td>\n",
       "      <td>...</td>\n",
       "      <td>...</td>\n",
       "    </tr>\n",
       "    <tr>\n",
       "      <th>687575</th>\n",
       "      <td>49</td>\n",
       "      <td>2025-05-22 00:03:00</td>\n",
       "      <td>262.000000</td>\n",
       "      <td>NaN</td>\n",
       "      <td>NaN</td>\n",
       "      <td>NaN</td>\n",
       "      <td>NaN</td>\n",
       "      <td>NaN</td>\n",
       "      <td>NaN</td>\n",
       "      <td>NaN</td>\n",
       "      <td>NaN</td>\n",
       "      <td>7.2</td>\n",
       "      <td>Type 2 Diabetes</td>\n",
       "    </tr>\n",
       "    <tr>\n",
       "      <th>687576</th>\n",
       "      <td>49</td>\n",
       "      <td>2025-05-22 00:04:00</td>\n",
       "      <td>261.600000</td>\n",
       "      <td>NaN</td>\n",
       "      <td>NaN</td>\n",
       "      <td>NaN</td>\n",
       "      <td>NaN</td>\n",
       "      <td>NaN</td>\n",
       "      <td>NaN</td>\n",
       "      <td>NaN</td>\n",
       "      <td>NaN</td>\n",
       "      <td>7.2</td>\n",
       "      <td>Type 2 Diabetes</td>\n",
       "    </tr>\n",
       "    <tr>\n",
       "      <th>687577</th>\n",
       "      <td>49</td>\n",
       "      <td>2025-05-22 00:05:00</td>\n",
       "      <td>261.200000</td>\n",
       "      <td>NaN</td>\n",
       "      <td>NaN</td>\n",
       "      <td>NaN</td>\n",
       "      <td>NaN</td>\n",
       "      <td>NaN</td>\n",
       "      <td>NaN</td>\n",
       "      <td>NaN</td>\n",
       "      <td>NaN</td>\n",
       "      <td>7.2</td>\n",
       "      <td>Type 2 Diabetes</td>\n",
       "    </tr>\n",
       "    <tr>\n",
       "      <th>687578</th>\n",
       "      <td>49</td>\n",
       "      <td>2025-05-22 00:06:00</td>\n",
       "      <td>260.800000</td>\n",
       "      <td>NaN</td>\n",
       "      <td>NaN</td>\n",
       "      <td>NaN</td>\n",
       "      <td>NaN</td>\n",
       "      <td>NaN</td>\n",
       "      <td>NaN</td>\n",
       "      <td>NaN</td>\n",
       "      <td>NaN</td>\n",
       "      <td>7.2</td>\n",
       "      <td>Type 2 Diabetes</td>\n",
       "    </tr>\n",
       "    <tr>\n",
       "      <th>687579</th>\n",
       "      <td>49</td>\n",
       "      <td>2025-05-22 00:07:00</td>\n",
       "      <td>260.400000</td>\n",
       "      <td>NaN</td>\n",
       "      <td>NaN</td>\n",
       "      <td>NaN</td>\n",
       "      <td>NaN</td>\n",
       "      <td>NaN</td>\n",
       "      <td>NaN</td>\n",
       "      <td>NaN</td>\n",
       "      <td>NaN</td>\n",
       "      <td>7.2</td>\n",
       "      <td>Type 2 Diabetes</td>\n",
       "    </tr>\n",
       "  </tbody>\n",
       "</table>\n",
       "<p>687580 rows × 13 columns</p>\n",
       "</div>"
      ],
      "text/plain": [
       "        subject           Timestamp    Libre GL  Dexcom GL    HR  Calories  \\\n",
       "0             1 2020-05-01 10:30:00   84.000000        NaN  56.0       NaN   \n",
       "1             1 2020-05-01 10:31:00   84.133333        NaN  56.0       NaN   \n",
       "2             1 2020-05-01 10:32:00   84.266667        NaN  57.0       NaN   \n",
       "3             1 2020-05-01 10:33:00   84.400000        NaN  54.0       NaN   \n",
       "4             1 2020-05-01 10:34:00   84.533333        NaN  55.0       NaN   \n",
       "...         ...                 ...         ...        ...   ...       ...   \n",
       "687575       49 2025-05-22 00:03:00  262.000000        NaN   NaN       NaN   \n",
       "687576       49 2025-05-22 00:04:00  261.600000        NaN   NaN       NaN   \n",
       "687577       49 2025-05-22 00:05:00  261.200000        NaN   NaN       NaN   \n",
       "687578       49 2025-05-22 00:06:00  260.800000        NaN   NaN       NaN   \n",
       "687579       49 2025-05-22 00:07:00  260.400000        NaN   NaN       NaN   \n",
       "\n",
       "       Meal Type  Carbs  Protein  Fat  Fiber  HbA1c  Diabetes Status  \n",
       "0            NaN    NaN      NaN  NaN    NaN    5.4      No Diabetes  \n",
       "1            NaN    NaN      NaN  NaN    NaN    5.4      No Diabetes  \n",
       "2            NaN    NaN      NaN  NaN    NaN    5.4      No Diabetes  \n",
       "3            NaN    NaN      NaN  NaN    NaN    5.4      No Diabetes  \n",
       "4            NaN    NaN      NaN  NaN    NaN    5.4      No Diabetes  \n",
       "...          ...    ...      ...  ...    ...    ...              ...  \n",
       "687575       NaN    NaN      NaN  NaN    NaN    7.2  Type 2 Diabetes  \n",
       "687576       NaN    NaN      NaN  NaN    NaN    7.2  Type 2 Diabetes  \n",
       "687577       NaN    NaN      NaN  NaN    NaN    7.2  Type 2 Diabetes  \n",
       "687578       NaN    NaN      NaN  NaN    NaN    7.2  Type 2 Diabetes  \n",
       "687579       NaN    NaN      NaN  NaN    NaN    7.2  Type 2 Diabetes  \n",
       "\n",
       "[687580 rows x 13 columns]"
      ]
     },
     "execution_count": 16,
     "metadata": {},
     "output_type": "execute_result"
    }
   ],
   "source": [
    "merged_data"
   ]
  },
  {
   "cell_type": "code",
   "execution_count": 17,
   "metadata": {},
   "outputs": [
    {
     "name": "stdout",
     "output_type": "stream",
     "text": [
      "Empty DataFrame\n",
      "Columns: [subject, Timestamp, Libre GL, Dexcom GL, HR, Calories, Meal Type, Carbs, Protein, Fat, Fiber, HbA1c, Diabetes Status]\n",
      "Index: []\n"
     ]
    }
   ],
   "source": [
    "# Checking if there is macro data (Carbs, Protein, Fat) when 'Meal Type' is missing\n",
    "missing_meal_macros = merged_data[merged_data[\"Meal Type\"].isna() & (merged_data[[\"Carbs\", \"Protein\", \"Fat\"]].notna().any(axis=1))]\n",
    "\n",
    "# Display rows\n",
    "print(missing_meal_macros)\n"
   ]
  },
  {
   "cell_type": "code",
   "execution_count": 18,
   "metadata": {},
   "outputs": [
    {
     "data": {
      "text/plain": [
       "Index(['subject', 'Timestamp', 'Libre GL', 'Dexcom GL', 'HR', 'Calories',\n",
       "       'Meal Type', 'Carbs', 'Protein', 'Fat', 'Fiber', 'HbA1c',\n",
       "       'Diabetes Status'],\n",
       "      dtype='object')"
      ]
     },
     "execution_count": 18,
     "metadata": {},
     "output_type": "execute_result"
    }
   ],
   "source": [
    "merged_data.columns"
   ]
  },
  {
   "cell_type": "code",
   "execution_count": 19,
   "metadata": {},
   "outputs": [],
   "source": [
    "# merged_data.to_csv('yuh.csv')"
   ]
  },
  {
   "cell_type": "code",
   "execution_count": 20,
   "metadata": {},
   "outputs": [
    {
     "data": {
      "text/plain": [
       "array([ 1,  2,  3,  4,  5,  6,  7,  8,  9, 10, 11, 12, 13, 14, 15, 16, 17,\n",
       "       18, 19, 20, 21, 22, 23, 26, 27, 28, 29, 30, 31, 32, 33, 34, 35, 36,\n",
       "       38, 39, 41, 42, 43, 44, 45, 46, 47, 48, 49])"
      ]
     },
     "execution_count": 20,
     "metadata": {},
     "output_type": "execute_result"
    }
   ],
   "source": [
    "merged_data['subject'].unique()"
   ]
  },
  {
   "cell_type": "code",
   "execution_count": 21,
   "metadata": {},
   "outputs": [],
   "source": [
    "gut_health_df = pd.read_csv('gut_health_test.csv')"
   ]
  },
  {
   "cell_type": "code",
   "execution_count": 22,
   "metadata": {},
   "outputs": [
    {
     "data": {
      "text/plain": [
       "Index(['subject', 'Gut Lining Health', 'LPS Biosynthesis Pathways',\n",
       "       'Biofilm, Chemotaxis, and Virulence Pathways',\n",
       "       'TMA Production Pathways', 'Ammonia Production Pathways',\n",
       "       'Metabolic Fitness', 'Active Microbial Diversity',\n",
       "       'Butyrate Production Pathways', 'Flagellar Assembly Pathways',\n",
       "       'Putrescine Production Pathways', 'Uric Acid Production Pathways',\n",
       "       'Bile Acid Metabolism Pathways', 'Inflammatory Activity',\n",
       "       'Gut Microbiome Health', 'Digestive Efficiency', 'Protein Fermentation',\n",
       "       'Gas Production', 'Methane Gas Production Pathways',\n",
       "       'Sulfide Gas Production Pathways', 'Oxalate Metabolism Pathways',\n",
       "       'Salt Stress Pathways', 'Microbiome-Induced Stress'],\n",
       "      dtype='object')"
      ]
     },
     "execution_count": 22,
     "metadata": {},
     "output_type": "execute_result"
    }
   ],
   "source": [
    "gut_health_df.columns"
   ]
  },
  {
   "cell_type": "code",
   "execution_count": 23,
   "metadata": {},
   "outputs": [],
   "source": [
    "gut_health_shorter = gut_health_df[['subject', 'Gut Lining Health']]\n"
   ]
  },
  {
   "cell_type": "code",
   "execution_count": 24,
   "metadata": {},
   "outputs": [],
   "source": [
    "# gut_health_shorter"
   ]
  },
  {
   "cell_type": "code",
   "execution_count": 25,
   "metadata": {},
   "outputs": [],
   "source": [
    "wee = merged_data.merge(gut_health_shorter, on = 'subject', how = 'left')"
   ]
  },
  {
   "cell_type": "code",
   "execution_count": 26,
   "metadata": {},
   "outputs": [
    {
     "data": {
      "text/html": [
       "<div>\n",
       "<style scoped>\n",
       "    .dataframe tbody tr th:only-of-type {\n",
       "        vertical-align: middle;\n",
       "    }\n",
       "\n",
       "    .dataframe tbody tr th {\n",
       "        vertical-align: top;\n",
       "    }\n",
       "\n",
       "    .dataframe thead th {\n",
       "        text-align: right;\n",
       "    }\n",
       "</style>\n",
       "<table border=\"1\" class=\"dataframe\">\n",
       "  <thead>\n",
       "    <tr style=\"text-align: right;\">\n",
       "      <th></th>\n",
       "      <th>subject</th>\n",
       "      <th>Timestamp</th>\n",
       "      <th>Libre GL</th>\n",
       "      <th>Dexcom GL</th>\n",
       "      <th>HR</th>\n",
       "      <th>Calories</th>\n",
       "      <th>Meal Type</th>\n",
       "      <th>Carbs</th>\n",
       "      <th>Protein</th>\n",
       "      <th>Fat</th>\n",
       "      <th>Fiber</th>\n",
       "      <th>HbA1c</th>\n",
       "      <th>Diabetes Status</th>\n",
       "      <th>Gut Lining Health</th>\n",
       "    </tr>\n",
       "  </thead>\n",
       "  <tbody>\n",
       "    <tr>\n",
       "      <th>0</th>\n",
       "      <td>1</td>\n",
       "      <td>2020-05-01 10:30:00</td>\n",
       "      <td>84.000000</td>\n",
       "      <td>NaN</td>\n",
       "      <td>56.0</td>\n",
       "      <td>NaN</td>\n",
       "      <td>NaN</td>\n",
       "      <td>NaN</td>\n",
       "      <td>NaN</td>\n",
       "      <td>NaN</td>\n",
       "      <td>NaN</td>\n",
       "      <td>5.4</td>\n",
       "      <td>No Diabetes</td>\n",
       "      <td>2.0</td>\n",
       "    </tr>\n",
       "    <tr>\n",
       "      <th>1</th>\n",
       "      <td>1</td>\n",
       "      <td>2020-05-01 10:31:00</td>\n",
       "      <td>84.133333</td>\n",
       "      <td>NaN</td>\n",
       "      <td>56.0</td>\n",
       "      <td>NaN</td>\n",
       "      <td>NaN</td>\n",
       "      <td>NaN</td>\n",
       "      <td>NaN</td>\n",
       "      <td>NaN</td>\n",
       "      <td>NaN</td>\n",
       "      <td>5.4</td>\n",
       "      <td>No Diabetes</td>\n",
       "      <td>2.0</td>\n",
       "    </tr>\n",
       "    <tr>\n",
       "      <th>2</th>\n",
       "      <td>1</td>\n",
       "      <td>2020-05-01 10:32:00</td>\n",
       "      <td>84.266667</td>\n",
       "      <td>NaN</td>\n",
       "      <td>57.0</td>\n",
       "      <td>NaN</td>\n",
       "      <td>NaN</td>\n",
       "      <td>NaN</td>\n",
       "      <td>NaN</td>\n",
       "      <td>NaN</td>\n",
       "      <td>NaN</td>\n",
       "      <td>5.4</td>\n",
       "      <td>No Diabetes</td>\n",
       "      <td>2.0</td>\n",
       "    </tr>\n",
       "    <tr>\n",
       "      <th>3</th>\n",
       "      <td>1</td>\n",
       "      <td>2020-05-01 10:33:00</td>\n",
       "      <td>84.400000</td>\n",
       "      <td>NaN</td>\n",
       "      <td>54.0</td>\n",
       "      <td>NaN</td>\n",
       "      <td>NaN</td>\n",
       "      <td>NaN</td>\n",
       "      <td>NaN</td>\n",
       "      <td>NaN</td>\n",
       "      <td>NaN</td>\n",
       "      <td>5.4</td>\n",
       "      <td>No Diabetes</td>\n",
       "      <td>2.0</td>\n",
       "    </tr>\n",
       "    <tr>\n",
       "      <th>4</th>\n",
       "      <td>1</td>\n",
       "      <td>2020-05-01 10:34:00</td>\n",
       "      <td>84.533333</td>\n",
       "      <td>NaN</td>\n",
       "      <td>55.0</td>\n",
       "      <td>NaN</td>\n",
       "      <td>NaN</td>\n",
       "      <td>NaN</td>\n",
       "      <td>NaN</td>\n",
       "      <td>NaN</td>\n",
       "      <td>NaN</td>\n",
       "      <td>5.4</td>\n",
       "      <td>No Diabetes</td>\n",
       "      <td>2.0</td>\n",
       "    </tr>\n",
       "    <tr>\n",
       "      <th>...</th>\n",
       "      <td>...</td>\n",
       "      <td>...</td>\n",
       "      <td>...</td>\n",
       "      <td>...</td>\n",
       "      <td>...</td>\n",
       "      <td>...</td>\n",
       "      <td>...</td>\n",
       "      <td>...</td>\n",
       "      <td>...</td>\n",
       "      <td>...</td>\n",
       "      <td>...</td>\n",
       "      <td>...</td>\n",
       "      <td>...</td>\n",
       "      <td>...</td>\n",
       "    </tr>\n",
       "    <tr>\n",
       "      <th>687575</th>\n",
       "      <td>49</td>\n",
       "      <td>2025-05-22 00:03:00</td>\n",
       "      <td>262.000000</td>\n",
       "      <td>NaN</td>\n",
       "      <td>NaN</td>\n",
       "      <td>NaN</td>\n",
       "      <td>NaN</td>\n",
       "      <td>NaN</td>\n",
       "      <td>NaN</td>\n",
       "      <td>NaN</td>\n",
       "      <td>NaN</td>\n",
       "      <td>7.2</td>\n",
       "      <td>Type 2 Diabetes</td>\n",
       "      <td>1.0</td>\n",
       "    </tr>\n",
       "    <tr>\n",
       "      <th>687576</th>\n",
       "      <td>49</td>\n",
       "      <td>2025-05-22 00:04:00</td>\n",
       "      <td>261.600000</td>\n",
       "      <td>NaN</td>\n",
       "      <td>NaN</td>\n",
       "      <td>NaN</td>\n",
       "      <td>NaN</td>\n",
       "      <td>NaN</td>\n",
       "      <td>NaN</td>\n",
       "      <td>NaN</td>\n",
       "      <td>NaN</td>\n",
       "      <td>7.2</td>\n",
       "      <td>Type 2 Diabetes</td>\n",
       "      <td>1.0</td>\n",
       "    </tr>\n",
       "    <tr>\n",
       "      <th>687577</th>\n",
       "      <td>49</td>\n",
       "      <td>2025-05-22 00:05:00</td>\n",
       "      <td>261.200000</td>\n",
       "      <td>NaN</td>\n",
       "      <td>NaN</td>\n",
       "      <td>NaN</td>\n",
       "      <td>NaN</td>\n",
       "      <td>NaN</td>\n",
       "      <td>NaN</td>\n",
       "      <td>NaN</td>\n",
       "      <td>NaN</td>\n",
       "      <td>7.2</td>\n",
       "      <td>Type 2 Diabetes</td>\n",
       "      <td>1.0</td>\n",
       "    </tr>\n",
       "    <tr>\n",
       "      <th>687578</th>\n",
       "      <td>49</td>\n",
       "      <td>2025-05-22 00:06:00</td>\n",
       "      <td>260.800000</td>\n",
       "      <td>NaN</td>\n",
       "      <td>NaN</td>\n",
       "      <td>NaN</td>\n",
       "      <td>NaN</td>\n",
       "      <td>NaN</td>\n",
       "      <td>NaN</td>\n",
       "      <td>NaN</td>\n",
       "      <td>NaN</td>\n",
       "      <td>7.2</td>\n",
       "      <td>Type 2 Diabetes</td>\n",
       "      <td>1.0</td>\n",
       "    </tr>\n",
       "    <tr>\n",
       "      <th>687579</th>\n",
       "      <td>49</td>\n",
       "      <td>2025-05-22 00:07:00</td>\n",
       "      <td>260.400000</td>\n",
       "      <td>NaN</td>\n",
       "      <td>NaN</td>\n",
       "      <td>NaN</td>\n",
       "      <td>NaN</td>\n",
       "      <td>NaN</td>\n",
       "      <td>NaN</td>\n",
       "      <td>NaN</td>\n",
       "      <td>NaN</td>\n",
       "      <td>7.2</td>\n",
       "      <td>Type 2 Diabetes</td>\n",
       "      <td>1.0</td>\n",
       "    </tr>\n",
       "  </tbody>\n",
       "</table>\n",
       "<p>687580 rows × 14 columns</p>\n",
       "</div>"
      ],
      "text/plain": [
       "        subject           Timestamp    Libre GL  Dexcom GL    HR  Calories  \\\n",
       "0             1 2020-05-01 10:30:00   84.000000        NaN  56.0       NaN   \n",
       "1             1 2020-05-01 10:31:00   84.133333        NaN  56.0       NaN   \n",
       "2             1 2020-05-01 10:32:00   84.266667        NaN  57.0       NaN   \n",
       "3             1 2020-05-01 10:33:00   84.400000        NaN  54.0       NaN   \n",
       "4             1 2020-05-01 10:34:00   84.533333        NaN  55.0       NaN   \n",
       "...         ...                 ...         ...        ...   ...       ...   \n",
       "687575       49 2025-05-22 00:03:00  262.000000        NaN   NaN       NaN   \n",
       "687576       49 2025-05-22 00:04:00  261.600000        NaN   NaN       NaN   \n",
       "687577       49 2025-05-22 00:05:00  261.200000        NaN   NaN       NaN   \n",
       "687578       49 2025-05-22 00:06:00  260.800000        NaN   NaN       NaN   \n",
       "687579       49 2025-05-22 00:07:00  260.400000        NaN   NaN       NaN   \n",
       "\n",
       "       Meal Type  Carbs  Protein  Fat  Fiber  HbA1c  Diabetes Status  \\\n",
       "0            NaN    NaN      NaN  NaN    NaN    5.4      No Diabetes   \n",
       "1            NaN    NaN      NaN  NaN    NaN    5.4      No Diabetes   \n",
       "2            NaN    NaN      NaN  NaN    NaN    5.4      No Diabetes   \n",
       "3            NaN    NaN      NaN  NaN    NaN    5.4      No Diabetes   \n",
       "4            NaN    NaN      NaN  NaN    NaN    5.4      No Diabetes   \n",
       "...          ...    ...      ...  ...    ...    ...              ...   \n",
       "687575       NaN    NaN      NaN  NaN    NaN    7.2  Type 2 Diabetes   \n",
       "687576       NaN    NaN      NaN  NaN    NaN    7.2  Type 2 Diabetes   \n",
       "687577       NaN    NaN      NaN  NaN    NaN    7.2  Type 2 Diabetes   \n",
       "687578       NaN    NaN      NaN  NaN    NaN    7.2  Type 2 Diabetes   \n",
       "687579       NaN    NaN      NaN  NaN    NaN    7.2  Type 2 Diabetes   \n",
       "\n",
       "        Gut Lining Health  \n",
       "0                     2.0  \n",
       "1                     2.0  \n",
       "2                     2.0  \n",
       "3                     2.0  \n",
       "4                     2.0  \n",
       "...                   ...  \n",
       "687575                1.0  \n",
       "687576                1.0  \n",
       "687577                1.0  \n",
       "687578                1.0  \n",
       "687579                1.0  \n",
       "\n",
       "[687580 rows x 14 columns]"
      ]
     },
     "execution_count": 26,
     "metadata": {},
     "output_type": "execute_result"
    }
   ],
   "source": [
    "wee"
   ]
  },
  {
   "cell_type": "code",
   "execution_count": 27,
   "metadata": {},
   "outputs": [],
   "source": [
    "wee = wee.dropna(subset=['Gut Lining Health'])"
   ]
  },
  {
   "cell_type": "code",
   "execution_count": 28,
   "metadata": {},
   "outputs": [
    {
     "data": {
      "text/plain": [
       "array([ 1,  2,  3,  4,  5,  6,  7,  8,  9, 10, 11, 12, 13, 14, 15, 16, 17,\n",
       "       18, 19, 20, 21, 22, 23, 27, 29, 30, 31, 32, 33, 34, 35, 36, 38, 39,\n",
       "       41, 42, 43, 44, 45, 46, 47, 49])"
      ]
     },
     "execution_count": 28,
     "metadata": {},
     "output_type": "execute_result"
    }
   ],
   "source": [
    "wee['subject'].unique()"
   ]
  },
  {
   "cell_type": "code",
   "execution_count": 29,
   "metadata": {},
   "outputs": [
    {
     "data": {
      "text/plain": [
       "Index(['subject', 'Timestamp', 'Libre GL', 'Dexcom GL', 'HR', 'Calories',\n",
       "       'Meal Type', 'Carbs', 'Protein', 'Fat', 'Fiber', 'HbA1c',\n",
       "       'Diabetes Status', 'Gut Lining Health'],\n",
       "      dtype='object')"
      ]
     },
     "execution_count": 29,
     "metadata": {},
     "output_type": "execute_result"
    }
   ],
   "source": [
    "wee.columns"
   ]
  },
  {
   "cell_type": "code",
   "execution_count": 30,
   "metadata": {},
   "outputs": [
    {
     "name": "stdout",
     "output_type": "stream",
     "text": [
      "Gut Lining Health     1.0     2.0    3.0\n",
      "Diabetes Status                         \n",
      "No Diabetes        104920   75195  30660\n",
      "Pre-Diabetes        64455  111645  48510\n",
      "Type 2 Diabetes     60930   78180  60690\n"
     ]
    }
   ],
   "source": [
    "# Count occurrences of each Gut Lining Health per Diabetes Status\n",
    "gut_health_counts = wee.groupby(\"Diabetes Status\")[\"Gut Lining Health\"].value_counts().unstack()\n",
    "\n",
    "# Display the table\n",
    "print(gut_health_counts)\n"
   ]
  },
  {
   "cell_type": "code",
   "execution_count": 31,
   "metadata": {},
   "outputs": [],
   "source": [
    "# wee"
   ]
  },
  {
   "cell_type": "code",
   "execution_count": 32,
   "metadata": {},
   "outputs": [],
   "source": [
    "meal_df = wee.dropna(subset=['Meal Type'])\n"
   ]
  },
  {
   "cell_type": "code",
   "execution_count": 33,
   "metadata": {},
   "outputs": [],
   "source": [
    "# meal_df.to_csv('meals.csv')"
   ]
  },
  {
   "cell_type": "code",
   "execution_count": 34,
   "metadata": {},
   "outputs": [
    {
     "data": {
      "text/html": [
       "<div>\n",
       "<style scoped>\n",
       "    .dataframe tbody tr th:only-of-type {\n",
       "        vertical-align: middle;\n",
       "    }\n",
       "\n",
       "    .dataframe tbody tr th {\n",
       "        vertical-align: top;\n",
       "    }\n",
       "\n",
       "    .dataframe thead th {\n",
       "        text-align: right;\n",
       "    }\n",
       "</style>\n",
       "<table border=\"1\" class=\"dataframe\">\n",
       "  <thead>\n",
       "    <tr style=\"text-align: right;\">\n",
       "      <th></th>\n",
       "      <th>subject</th>\n",
       "      <th>Timestamp</th>\n",
       "      <th>Libre GL</th>\n",
       "      <th>Dexcom GL</th>\n",
       "      <th>HR</th>\n",
       "      <th>Calories</th>\n",
       "      <th>Meal Type</th>\n",
       "      <th>Carbs</th>\n",
       "      <th>Protein</th>\n",
       "      <th>Fat</th>\n",
       "      <th>Fiber</th>\n",
       "      <th>HbA1c</th>\n",
       "      <th>Diabetes Status</th>\n",
       "      <th>Gut Lining Health</th>\n",
       "    </tr>\n",
       "  </thead>\n",
       "  <tbody>\n",
       "    <tr>\n",
       "      <th>233</th>\n",
       "      <td>1</td>\n",
       "      <td>2020-05-01 14:23:00</td>\n",
       "      <td>69.800000</td>\n",
       "      <td>109.4</td>\n",
       "      <td>95.0</td>\n",
       "      <td>1170.0</td>\n",
       "      <td>Lunch</td>\n",
       "      <td>85.0</td>\n",
       "      <td>88.0</td>\n",
       "      <td>54.2</td>\n",
       "      <td>12.0</td>\n",
       "      <td>5.4</td>\n",
       "      <td>No Diabetes</td>\n",
       "      <td>2.0</td>\n",
       "    </tr>\n",
       "    <tr>\n",
       "      <th>618</th>\n",
       "      <td>1</td>\n",
       "      <td>2020-05-01 20:48:00</td>\n",
       "      <td>84.800000</td>\n",
       "      <td>114.8</td>\n",
       "      <td>81.0</td>\n",
       "      <td>80.0</td>\n",
       "      <td>Dinner</td>\n",
       "      <td>18.0</td>\n",
       "      <td>0.0</td>\n",
       "      <td>0.0</td>\n",
       "      <td>0.0</td>\n",
       "      <td>5.4</td>\n",
       "      <td>No Diabetes</td>\n",
       "      <td>2.0</td>\n",
       "    </tr>\n",
       "    <tr>\n",
       "      <th>825</th>\n",
       "      <td>1</td>\n",
       "      <td>2020-05-02 00:15:00</td>\n",
       "      <td>81.000000</td>\n",
       "      <td>97.4</td>\n",
       "      <td>78.0</td>\n",
       "      <td>110.0</td>\n",
       "      <td>Snack</td>\n",
       "      <td>24.0</td>\n",
       "      <td>0.0</td>\n",
       "      <td>2.0</td>\n",
       "      <td>0.0</td>\n",
       "      <td>5.4</td>\n",
       "      <td>No Diabetes</td>\n",
       "      <td>2.0</td>\n",
       "    </tr>\n",
       "    <tr>\n",
       "      <th>1308</th>\n",
       "      <td>1</td>\n",
       "      <td>2020-05-02 08:18:00</td>\n",
       "      <td>88.400000</td>\n",
       "      <td>101.8</td>\n",
       "      <td>81.0</td>\n",
       "      <td>448.0</td>\n",
       "      <td>Breakfast</td>\n",
       "      <td>66.0</td>\n",
       "      <td>22.0</td>\n",
       "      <td>10.5</td>\n",
       "      <td>0.0</td>\n",
       "      <td>5.4</td>\n",
       "      <td>No Diabetes</td>\n",
       "      <td>2.0</td>\n",
       "    </tr>\n",
       "    <tr>\n",
       "      <th>1530</th>\n",
       "      <td>1</td>\n",
       "      <td>2020-05-02 12:00:00</td>\n",
       "      <td>82.000000</td>\n",
       "      <td>80.0</td>\n",
       "      <td>84.0</td>\n",
       "      <td>840.0</td>\n",
       "      <td>Lunch</td>\n",
       "      <td>89.0</td>\n",
       "      <td>17.0</td>\n",
       "      <td>42.0</td>\n",
       "      <td>3.0</td>\n",
       "      <td>5.4</td>\n",
       "      <td>No Diabetes</td>\n",
       "      <td>2.0</td>\n",
       "    </tr>\n",
       "    <tr>\n",
       "      <th>...</th>\n",
       "      <td>...</td>\n",
       "      <td>...</td>\n",
       "      <td>...</td>\n",
       "      <td>...</td>\n",
       "      <td>...</td>\n",
       "      <td>...</td>\n",
       "      <td>...</td>\n",
       "      <td>...</td>\n",
       "      <td>...</td>\n",
       "      <td>...</td>\n",
       "      <td>...</td>\n",
       "      <td>...</td>\n",
       "      <td>...</td>\n",
       "      <td>...</td>\n",
       "    </tr>\n",
       "    <tr>\n",
       "      <th>684069</th>\n",
       "      <td>49</td>\n",
       "      <td>2025-05-19 13:37:00</td>\n",
       "      <td>82.933333</td>\n",
       "      <td>94.8</td>\n",
       "      <td>93.0</td>\n",
       "      <td>445.0</td>\n",
       "      <td>Lunch</td>\n",
       "      <td>43.0</td>\n",
       "      <td>20.0</td>\n",
       "      <td>20.0</td>\n",
       "      <td>13.0</td>\n",
       "      <td>7.2</td>\n",
       "      <td>Type 2 Diabetes</td>\n",
       "      <td>1.0</td>\n",
       "    </tr>\n",
       "    <tr>\n",
       "      <th>684473</th>\n",
       "      <td>49</td>\n",
       "      <td>2025-05-19 20:21:00</td>\n",
       "      <td>88.466667</td>\n",
       "      <td>106.0</td>\n",
       "      <td>78.0</td>\n",
       "      <td>370.0</td>\n",
       "      <td>Dinner</td>\n",
       "      <td>38.0</td>\n",
       "      <td>26.0</td>\n",
       "      <td>12.0</td>\n",
       "      <td>2.0</td>\n",
       "      <td>7.2</td>\n",
       "      <td>Type 2 Diabetes</td>\n",
       "      <td>1.0</td>\n",
       "    </tr>\n",
       "    <tr>\n",
       "      <th>685118</th>\n",
       "      <td>49</td>\n",
       "      <td>2025-05-20 07:06:00</td>\n",
       "      <td>138.333333</td>\n",
       "      <td>152.6</td>\n",
       "      <td>81.0</td>\n",
       "      <td>268.0</td>\n",
       "      <td>Breakfast</td>\n",
       "      <td>24.0</td>\n",
       "      <td>22.0</td>\n",
       "      <td>10.5</td>\n",
       "      <td>0.0</td>\n",
       "      <td>7.2</td>\n",
       "      <td>Type 2 Diabetes</td>\n",
       "      <td>1.0</td>\n",
       "    </tr>\n",
       "    <tr>\n",
       "      <th>685465</th>\n",
       "      <td>49</td>\n",
       "      <td>2025-05-20 12:53:00</td>\n",
       "      <td>84.000000</td>\n",
       "      <td>100.0</td>\n",
       "      <td>84.0</td>\n",
       "      <td>725.0</td>\n",
       "      <td>Lunch</td>\n",
       "      <td>94.0</td>\n",
       "      <td>44.0</td>\n",
       "      <td>20.0</td>\n",
       "      <td>4.0</td>\n",
       "      <td>7.2</td>\n",
       "      <td>Type 2 Diabetes</td>\n",
       "      <td>1.0</td>\n",
       "    </tr>\n",
       "    <tr>\n",
       "      <th>686614</th>\n",
       "      <td>49</td>\n",
       "      <td>2025-05-21 08:02:00</td>\n",
       "      <td>221.400000</td>\n",
       "      <td>NaN</td>\n",
       "      <td>115.0</td>\n",
       "      <td>902.0</td>\n",
       "      <td>Breakfast</td>\n",
       "      <td>73.0</td>\n",
       "      <td>22.0</td>\n",
       "      <td>42.0</td>\n",
       "      <td>7.0</td>\n",
       "      <td>7.2</td>\n",
       "      <td>Type 2 Diabetes</td>\n",
       "      <td>1.0</td>\n",
       "    </tr>\n",
       "  </tbody>\n",
       "</table>\n",
       "<p>1600 rows × 14 columns</p>\n",
       "</div>"
      ],
      "text/plain": [
       "        subject           Timestamp    Libre GL  Dexcom GL     HR  Calories  \\\n",
       "233           1 2020-05-01 14:23:00   69.800000      109.4   95.0    1170.0   \n",
       "618           1 2020-05-01 20:48:00   84.800000      114.8   81.0      80.0   \n",
       "825           1 2020-05-02 00:15:00   81.000000       97.4   78.0     110.0   \n",
       "1308          1 2020-05-02 08:18:00   88.400000      101.8   81.0     448.0   \n",
       "1530          1 2020-05-02 12:00:00   82.000000       80.0   84.0     840.0   \n",
       "...         ...                 ...         ...        ...    ...       ...   \n",
       "684069       49 2025-05-19 13:37:00   82.933333       94.8   93.0     445.0   \n",
       "684473       49 2025-05-19 20:21:00   88.466667      106.0   78.0     370.0   \n",
       "685118       49 2025-05-20 07:06:00  138.333333      152.6   81.0     268.0   \n",
       "685465       49 2025-05-20 12:53:00   84.000000      100.0   84.0     725.0   \n",
       "686614       49 2025-05-21 08:02:00  221.400000        NaN  115.0     902.0   \n",
       "\n",
       "        Meal Type  Carbs  Protein   Fat  Fiber  HbA1c  Diabetes Status  \\\n",
       "233         Lunch   85.0     88.0  54.2   12.0    5.4      No Diabetes   \n",
       "618        Dinner   18.0      0.0   0.0    0.0    5.4      No Diabetes   \n",
       "825         Snack   24.0      0.0   2.0    0.0    5.4      No Diabetes   \n",
       "1308    Breakfast   66.0     22.0  10.5    0.0    5.4      No Diabetes   \n",
       "1530        Lunch   89.0     17.0  42.0    3.0    5.4      No Diabetes   \n",
       "...           ...    ...      ...   ...    ...    ...              ...   \n",
       "684069      Lunch   43.0     20.0  20.0   13.0    7.2  Type 2 Diabetes   \n",
       "684473     Dinner   38.0     26.0  12.0    2.0    7.2  Type 2 Diabetes   \n",
       "685118  Breakfast   24.0     22.0  10.5    0.0    7.2  Type 2 Diabetes   \n",
       "685465      Lunch   94.0     44.0  20.0    4.0    7.2  Type 2 Diabetes   \n",
       "686614  Breakfast   73.0     22.0  42.0    7.0    7.2  Type 2 Diabetes   \n",
       "\n",
       "        Gut Lining Health  \n",
       "233                   2.0  \n",
       "618                   2.0  \n",
       "825                   2.0  \n",
       "1308                  2.0  \n",
       "1530                  2.0  \n",
       "...                   ...  \n",
       "684069                1.0  \n",
       "684473                1.0  \n",
       "685118                1.0  \n",
       "685465                1.0  \n",
       "686614                1.0  \n",
       "\n",
       "[1600 rows x 14 columns]"
      ]
     },
     "execution_count": 34,
     "metadata": {},
     "output_type": "execute_result"
    }
   ],
   "source": [
    "meal_df"
   ]
  },
  {
   "cell_type": "code",
   "execution_count": 35,
   "metadata": {},
   "outputs": [
    {
     "data": {
      "text/plain": [
       "233       85.0\n",
       "618       18.0\n",
       "825       24.0\n",
       "1308      66.0\n",
       "1530      89.0\n",
       "          ... \n",
       "684069    43.0\n",
       "684473    38.0\n",
       "685118    24.0\n",
       "685465    94.0\n",
       "686614    73.0\n",
       "Name: Carbs, Length: 1600, dtype: float64"
      ]
     },
     "execution_count": 35,
     "metadata": {},
     "output_type": "execute_result"
    }
   ],
   "source": [
    "meal_df['Carbs']"
   ]
  },
  {
   "cell_type": "code",
   "execution_count": 36,
   "metadata": {},
   "outputs": [],
   "source": [
    "wee = wee.copy()\n",
    "wee['Carb Category'] = pd.cut(wee['Carbs'], bins=[0, 30, 75, 176], labels=['Low', 'Moderate', 'High'], right=False)\n",
    "# 0 - 30 grams is low carb\n",
    "# 30-75 grams is moderate carb\n",
    "# 75 - 176 grams is high carb"
   ]
  },
  {
   "cell_type": "code",
   "execution_count": 37,
   "metadata": {},
   "outputs": [
    {
     "data": {
      "text/html": [
       "<div>\n",
       "<style scoped>\n",
       "    .dataframe tbody tr th:only-of-type {\n",
       "        vertical-align: middle;\n",
       "    }\n",
       "\n",
       "    .dataframe tbody tr th {\n",
       "        vertical-align: top;\n",
       "    }\n",
       "\n",
       "    .dataframe thead th {\n",
       "        text-align: right;\n",
       "    }\n",
       "</style>\n",
       "<table border=\"1\" class=\"dataframe\">\n",
       "  <thead>\n",
       "    <tr style=\"text-align: right;\">\n",
       "      <th></th>\n",
       "      <th>subject</th>\n",
       "      <th>Timestamp</th>\n",
       "      <th>Libre GL</th>\n",
       "      <th>Dexcom GL</th>\n",
       "      <th>HR</th>\n",
       "      <th>Calories</th>\n",
       "      <th>Meal Type</th>\n",
       "      <th>Carbs</th>\n",
       "      <th>Protein</th>\n",
       "      <th>Fat</th>\n",
       "      <th>Fiber</th>\n",
       "      <th>HbA1c</th>\n",
       "      <th>Diabetes Status</th>\n",
       "      <th>Gut Lining Health</th>\n",
       "      <th>Carb Category</th>\n",
       "    </tr>\n",
       "  </thead>\n",
       "  <tbody>\n",
       "    <tr>\n",
       "      <th>0</th>\n",
       "      <td>1</td>\n",
       "      <td>2020-05-01 10:30:00</td>\n",
       "      <td>84.000000</td>\n",
       "      <td>NaN</td>\n",
       "      <td>56.0</td>\n",
       "      <td>NaN</td>\n",
       "      <td>NaN</td>\n",
       "      <td>NaN</td>\n",
       "      <td>NaN</td>\n",
       "      <td>NaN</td>\n",
       "      <td>NaN</td>\n",
       "      <td>5.4</td>\n",
       "      <td>No Diabetes</td>\n",
       "      <td>2.0</td>\n",
       "      <td>NaN</td>\n",
       "    </tr>\n",
       "    <tr>\n",
       "      <th>1</th>\n",
       "      <td>1</td>\n",
       "      <td>2020-05-01 10:31:00</td>\n",
       "      <td>84.133333</td>\n",
       "      <td>NaN</td>\n",
       "      <td>56.0</td>\n",
       "      <td>NaN</td>\n",
       "      <td>NaN</td>\n",
       "      <td>NaN</td>\n",
       "      <td>NaN</td>\n",
       "      <td>NaN</td>\n",
       "      <td>NaN</td>\n",
       "      <td>5.4</td>\n",
       "      <td>No Diabetes</td>\n",
       "      <td>2.0</td>\n",
       "      <td>NaN</td>\n",
       "    </tr>\n",
       "    <tr>\n",
       "      <th>2</th>\n",
       "      <td>1</td>\n",
       "      <td>2020-05-01 10:32:00</td>\n",
       "      <td>84.266667</td>\n",
       "      <td>NaN</td>\n",
       "      <td>57.0</td>\n",
       "      <td>NaN</td>\n",
       "      <td>NaN</td>\n",
       "      <td>NaN</td>\n",
       "      <td>NaN</td>\n",
       "      <td>NaN</td>\n",
       "      <td>NaN</td>\n",
       "      <td>5.4</td>\n",
       "      <td>No Diabetes</td>\n",
       "      <td>2.0</td>\n",
       "      <td>NaN</td>\n",
       "    </tr>\n",
       "    <tr>\n",
       "      <th>3</th>\n",
       "      <td>1</td>\n",
       "      <td>2020-05-01 10:33:00</td>\n",
       "      <td>84.400000</td>\n",
       "      <td>NaN</td>\n",
       "      <td>54.0</td>\n",
       "      <td>NaN</td>\n",
       "      <td>NaN</td>\n",
       "      <td>NaN</td>\n",
       "      <td>NaN</td>\n",
       "      <td>NaN</td>\n",
       "      <td>NaN</td>\n",
       "      <td>5.4</td>\n",
       "      <td>No Diabetes</td>\n",
       "      <td>2.0</td>\n",
       "      <td>NaN</td>\n",
       "    </tr>\n",
       "    <tr>\n",
       "      <th>4</th>\n",
       "      <td>1</td>\n",
       "      <td>2020-05-01 10:34:00</td>\n",
       "      <td>84.533333</td>\n",
       "      <td>NaN</td>\n",
       "      <td>55.0</td>\n",
       "      <td>NaN</td>\n",
       "      <td>NaN</td>\n",
       "      <td>NaN</td>\n",
       "      <td>NaN</td>\n",
       "      <td>NaN</td>\n",
       "      <td>NaN</td>\n",
       "      <td>5.4</td>\n",
       "      <td>No Diabetes</td>\n",
       "      <td>2.0</td>\n",
       "      <td>NaN</td>\n",
       "    </tr>\n",
       "    <tr>\n",
       "      <th>...</th>\n",
       "      <td>...</td>\n",
       "      <td>...</td>\n",
       "      <td>...</td>\n",
       "      <td>...</td>\n",
       "      <td>...</td>\n",
       "      <td>...</td>\n",
       "      <td>...</td>\n",
       "      <td>...</td>\n",
       "      <td>...</td>\n",
       "      <td>...</td>\n",
       "      <td>...</td>\n",
       "      <td>...</td>\n",
       "      <td>...</td>\n",
       "      <td>...</td>\n",
       "      <td>...</td>\n",
       "    </tr>\n",
       "    <tr>\n",
       "      <th>687575</th>\n",
       "      <td>49</td>\n",
       "      <td>2025-05-22 00:03:00</td>\n",
       "      <td>262.000000</td>\n",
       "      <td>NaN</td>\n",
       "      <td>NaN</td>\n",
       "      <td>NaN</td>\n",
       "      <td>NaN</td>\n",
       "      <td>NaN</td>\n",
       "      <td>NaN</td>\n",
       "      <td>NaN</td>\n",
       "      <td>NaN</td>\n",
       "      <td>7.2</td>\n",
       "      <td>Type 2 Diabetes</td>\n",
       "      <td>1.0</td>\n",
       "      <td>NaN</td>\n",
       "    </tr>\n",
       "    <tr>\n",
       "      <th>687576</th>\n",
       "      <td>49</td>\n",
       "      <td>2025-05-22 00:04:00</td>\n",
       "      <td>261.600000</td>\n",
       "      <td>NaN</td>\n",
       "      <td>NaN</td>\n",
       "      <td>NaN</td>\n",
       "      <td>NaN</td>\n",
       "      <td>NaN</td>\n",
       "      <td>NaN</td>\n",
       "      <td>NaN</td>\n",
       "      <td>NaN</td>\n",
       "      <td>7.2</td>\n",
       "      <td>Type 2 Diabetes</td>\n",
       "      <td>1.0</td>\n",
       "      <td>NaN</td>\n",
       "    </tr>\n",
       "    <tr>\n",
       "      <th>687577</th>\n",
       "      <td>49</td>\n",
       "      <td>2025-05-22 00:05:00</td>\n",
       "      <td>261.200000</td>\n",
       "      <td>NaN</td>\n",
       "      <td>NaN</td>\n",
       "      <td>NaN</td>\n",
       "      <td>NaN</td>\n",
       "      <td>NaN</td>\n",
       "      <td>NaN</td>\n",
       "      <td>NaN</td>\n",
       "      <td>NaN</td>\n",
       "      <td>7.2</td>\n",
       "      <td>Type 2 Diabetes</td>\n",
       "      <td>1.0</td>\n",
       "      <td>NaN</td>\n",
       "    </tr>\n",
       "    <tr>\n",
       "      <th>687578</th>\n",
       "      <td>49</td>\n",
       "      <td>2025-05-22 00:06:00</td>\n",
       "      <td>260.800000</td>\n",
       "      <td>NaN</td>\n",
       "      <td>NaN</td>\n",
       "      <td>NaN</td>\n",
       "      <td>NaN</td>\n",
       "      <td>NaN</td>\n",
       "      <td>NaN</td>\n",
       "      <td>NaN</td>\n",
       "      <td>NaN</td>\n",
       "      <td>7.2</td>\n",
       "      <td>Type 2 Diabetes</td>\n",
       "      <td>1.0</td>\n",
       "      <td>NaN</td>\n",
       "    </tr>\n",
       "    <tr>\n",
       "      <th>687579</th>\n",
       "      <td>49</td>\n",
       "      <td>2025-05-22 00:07:00</td>\n",
       "      <td>260.400000</td>\n",
       "      <td>NaN</td>\n",
       "      <td>NaN</td>\n",
       "      <td>NaN</td>\n",
       "      <td>NaN</td>\n",
       "      <td>NaN</td>\n",
       "      <td>NaN</td>\n",
       "      <td>NaN</td>\n",
       "      <td>NaN</td>\n",
       "      <td>7.2</td>\n",
       "      <td>Type 2 Diabetes</td>\n",
       "      <td>1.0</td>\n",
       "      <td>NaN</td>\n",
       "    </tr>\n",
       "  </tbody>\n",
       "</table>\n",
       "<p>635185 rows × 15 columns</p>\n",
       "</div>"
      ],
      "text/plain": [
       "        subject           Timestamp    Libre GL  Dexcom GL    HR  Calories  \\\n",
       "0             1 2020-05-01 10:30:00   84.000000        NaN  56.0       NaN   \n",
       "1             1 2020-05-01 10:31:00   84.133333        NaN  56.0       NaN   \n",
       "2             1 2020-05-01 10:32:00   84.266667        NaN  57.0       NaN   \n",
       "3             1 2020-05-01 10:33:00   84.400000        NaN  54.0       NaN   \n",
       "4             1 2020-05-01 10:34:00   84.533333        NaN  55.0       NaN   \n",
       "...         ...                 ...         ...        ...   ...       ...   \n",
       "687575       49 2025-05-22 00:03:00  262.000000        NaN   NaN       NaN   \n",
       "687576       49 2025-05-22 00:04:00  261.600000        NaN   NaN       NaN   \n",
       "687577       49 2025-05-22 00:05:00  261.200000        NaN   NaN       NaN   \n",
       "687578       49 2025-05-22 00:06:00  260.800000        NaN   NaN       NaN   \n",
       "687579       49 2025-05-22 00:07:00  260.400000        NaN   NaN       NaN   \n",
       "\n",
       "       Meal Type  Carbs  Protein  Fat  Fiber  HbA1c  Diabetes Status  \\\n",
       "0            NaN    NaN      NaN  NaN    NaN    5.4      No Diabetes   \n",
       "1            NaN    NaN      NaN  NaN    NaN    5.4      No Diabetes   \n",
       "2            NaN    NaN      NaN  NaN    NaN    5.4      No Diabetes   \n",
       "3            NaN    NaN      NaN  NaN    NaN    5.4      No Diabetes   \n",
       "4            NaN    NaN      NaN  NaN    NaN    5.4      No Diabetes   \n",
       "...          ...    ...      ...  ...    ...    ...              ...   \n",
       "687575       NaN    NaN      NaN  NaN    NaN    7.2  Type 2 Diabetes   \n",
       "687576       NaN    NaN      NaN  NaN    NaN    7.2  Type 2 Diabetes   \n",
       "687577       NaN    NaN      NaN  NaN    NaN    7.2  Type 2 Diabetes   \n",
       "687578       NaN    NaN      NaN  NaN    NaN    7.2  Type 2 Diabetes   \n",
       "687579       NaN    NaN      NaN  NaN    NaN    7.2  Type 2 Diabetes   \n",
       "\n",
       "        Gut Lining Health Carb Category  \n",
       "0                     2.0           NaN  \n",
       "1                     2.0           NaN  \n",
       "2                     2.0           NaN  \n",
       "3                     2.0           NaN  \n",
       "4                     2.0           NaN  \n",
       "...                   ...           ...  \n",
       "687575                1.0           NaN  \n",
       "687576                1.0           NaN  \n",
       "687577                1.0           NaN  \n",
       "687578                1.0           NaN  \n",
       "687579                1.0           NaN  \n",
       "\n",
       "[635185 rows x 15 columns]"
      ]
     },
     "execution_count": 37,
     "metadata": {},
     "output_type": "execute_result"
    }
   ],
   "source": [
    "wee"
   ]
  },
  {
   "cell_type": "code",
   "execution_count": 38,
   "metadata": {},
   "outputs": [],
   "source": [
    "better_meal_df = wee.dropna(subset=['Meal Type'])"
   ]
  },
  {
   "cell_type": "code",
   "execution_count": 39,
   "metadata": {},
   "outputs": [
    {
     "data": {
      "text/html": [
       "<div>\n",
       "<style scoped>\n",
       "    .dataframe tbody tr th:only-of-type {\n",
       "        vertical-align: middle;\n",
       "    }\n",
       "\n",
       "    .dataframe tbody tr th {\n",
       "        vertical-align: top;\n",
       "    }\n",
       "\n",
       "    .dataframe thead th {\n",
       "        text-align: right;\n",
       "    }\n",
       "</style>\n",
       "<table border=\"1\" class=\"dataframe\">\n",
       "  <thead>\n",
       "    <tr style=\"text-align: right;\">\n",
       "      <th></th>\n",
       "      <th>subject</th>\n",
       "      <th>Timestamp</th>\n",
       "      <th>Libre GL</th>\n",
       "      <th>Dexcom GL</th>\n",
       "      <th>HR</th>\n",
       "      <th>Calories</th>\n",
       "      <th>Meal Type</th>\n",
       "      <th>Carbs</th>\n",
       "      <th>Protein</th>\n",
       "      <th>Fat</th>\n",
       "      <th>Fiber</th>\n",
       "      <th>HbA1c</th>\n",
       "      <th>Diabetes Status</th>\n",
       "      <th>Gut Lining Health</th>\n",
       "      <th>Carb Category</th>\n",
       "    </tr>\n",
       "  </thead>\n",
       "  <tbody>\n",
       "    <tr>\n",
       "      <th>233</th>\n",
       "      <td>1</td>\n",
       "      <td>2020-05-01 14:23:00</td>\n",
       "      <td>69.800000</td>\n",
       "      <td>109.4</td>\n",
       "      <td>95.0</td>\n",
       "      <td>1170.0</td>\n",
       "      <td>Lunch</td>\n",
       "      <td>85.0</td>\n",
       "      <td>88.0</td>\n",
       "      <td>54.2</td>\n",
       "      <td>12.0</td>\n",
       "      <td>5.4</td>\n",
       "      <td>No Diabetes</td>\n",
       "      <td>2.0</td>\n",
       "      <td>High</td>\n",
       "    </tr>\n",
       "    <tr>\n",
       "      <th>618</th>\n",
       "      <td>1</td>\n",
       "      <td>2020-05-01 20:48:00</td>\n",
       "      <td>84.800000</td>\n",
       "      <td>114.8</td>\n",
       "      <td>81.0</td>\n",
       "      <td>80.0</td>\n",
       "      <td>Dinner</td>\n",
       "      <td>18.0</td>\n",
       "      <td>0.0</td>\n",
       "      <td>0.0</td>\n",
       "      <td>0.0</td>\n",
       "      <td>5.4</td>\n",
       "      <td>No Diabetes</td>\n",
       "      <td>2.0</td>\n",
       "      <td>Low</td>\n",
       "    </tr>\n",
       "    <tr>\n",
       "      <th>825</th>\n",
       "      <td>1</td>\n",
       "      <td>2020-05-02 00:15:00</td>\n",
       "      <td>81.000000</td>\n",
       "      <td>97.4</td>\n",
       "      <td>78.0</td>\n",
       "      <td>110.0</td>\n",
       "      <td>Snack</td>\n",
       "      <td>24.0</td>\n",
       "      <td>0.0</td>\n",
       "      <td>2.0</td>\n",
       "      <td>0.0</td>\n",
       "      <td>5.4</td>\n",
       "      <td>No Diabetes</td>\n",
       "      <td>2.0</td>\n",
       "      <td>Low</td>\n",
       "    </tr>\n",
       "    <tr>\n",
       "      <th>1308</th>\n",
       "      <td>1</td>\n",
       "      <td>2020-05-02 08:18:00</td>\n",
       "      <td>88.400000</td>\n",
       "      <td>101.8</td>\n",
       "      <td>81.0</td>\n",
       "      <td>448.0</td>\n",
       "      <td>Breakfast</td>\n",
       "      <td>66.0</td>\n",
       "      <td>22.0</td>\n",
       "      <td>10.5</td>\n",
       "      <td>0.0</td>\n",
       "      <td>5.4</td>\n",
       "      <td>No Diabetes</td>\n",
       "      <td>2.0</td>\n",
       "      <td>Moderate</td>\n",
       "    </tr>\n",
       "    <tr>\n",
       "      <th>1530</th>\n",
       "      <td>1</td>\n",
       "      <td>2020-05-02 12:00:00</td>\n",
       "      <td>82.000000</td>\n",
       "      <td>80.0</td>\n",
       "      <td>84.0</td>\n",
       "      <td>840.0</td>\n",
       "      <td>Lunch</td>\n",
       "      <td>89.0</td>\n",
       "      <td>17.0</td>\n",
       "      <td>42.0</td>\n",
       "      <td>3.0</td>\n",
       "      <td>5.4</td>\n",
       "      <td>No Diabetes</td>\n",
       "      <td>2.0</td>\n",
       "      <td>High</td>\n",
       "    </tr>\n",
       "    <tr>\n",
       "      <th>...</th>\n",
       "      <td>...</td>\n",
       "      <td>...</td>\n",
       "      <td>...</td>\n",
       "      <td>...</td>\n",
       "      <td>...</td>\n",
       "      <td>...</td>\n",
       "      <td>...</td>\n",
       "      <td>...</td>\n",
       "      <td>...</td>\n",
       "      <td>...</td>\n",
       "      <td>...</td>\n",
       "      <td>...</td>\n",
       "      <td>...</td>\n",
       "      <td>...</td>\n",
       "      <td>...</td>\n",
       "    </tr>\n",
       "    <tr>\n",
       "      <th>684069</th>\n",
       "      <td>49</td>\n",
       "      <td>2025-05-19 13:37:00</td>\n",
       "      <td>82.933333</td>\n",
       "      <td>94.8</td>\n",
       "      <td>93.0</td>\n",
       "      <td>445.0</td>\n",
       "      <td>Lunch</td>\n",
       "      <td>43.0</td>\n",
       "      <td>20.0</td>\n",
       "      <td>20.0</td>\n",
       "      <td>13.0</td>\n",
       "      <td>7.2</td>\n",
       "      <td>Type 2 Diabetes</td>\n",
       "      <td>1.0</td>\n",
       "      <td>Moderate</td>\n",
       "    </tr>\n",
       "    <tr>\n",
       "      <th>684473</th>\n",
       "      <td>49</td>\n",
       "      <td>2025-05-19 20:21:00</td>\n",
       "      <td>88.466667</td>\n",
       "      <td>106.0</td>\n",
       "      <td>78.0</td>\n",
       "      <td>370.0</td>\n",
       "      <td>Dinner</td>\n",
       "      <td>38.0</td>\n",
       "      <td>26.0</td>\n",
       "      <td>12.0</td>\n",
       "      <td>2.0</td>\n",
       "      <td>7.2</td>\n",
       "      <td>Type 2 Diabetes</td>\n",
       "      <td>1.0</td>\n",
       "      <td>Moderate</td>\n",
       "    </tr>\n",
       "    <tr>\n",
       "      <th>685118</th>\n",
       "      <td>49</td>\n",
       "      <td>2025-05-20 07:06:00</td>\n",
       "      <td>138.333333</td>\n",
       "      <td>152.6</td>\n",
       "      <td>81.0</td>\n",
       "      <td>268.0</td>\n",
       "      <td>Breakfast</td>\n",
       "      <td>24.0</td>\n",
       "      <td>22.0</td>\n",
       "      <td>10.5</td>\n",
       "      <td>0.0</td>\n",
       "      <td>7.2</td>\n",
       "      <td>Type 2 Diabetes</td>\n",
       "      <td>1.0</td>\n",
       "      <td>Low</td>\n",
       "    </tr>\n",
       "    <tr>\n",
       "      <th>685465</th>\n",
       "      <td>49</td>\n",
       "      <td>2025-05-20 12:53:00</td>\n",
       "      <td>84.000000</td>\n",
       "      <td>100.0</td>\n",
       "      <td>84.0</td>\n",
       "      <td>725.0</td>\n",
       "      <td>Lunch</td>\n",
       "      <td>94.0</td>\n",
       "      <td>44.0</td>\n",
       "      <td>20.0</td>\n",
       "      <td>4.0</td>\n",
       "      <td>7.2</td>\n",
       "      <td>Type 2 Diabetes</td>\n",
       "      <td>1.0</td>\n",
       "      <td>High</td>\n",
       "    </tr>\n",
       "    <tr>\n",
       "      <th>686614</th>\n",
       "      <td>49</td>\n",
       "      <td>2025-05-21 08:02:00</td>\n",
       "      <td>221.400000</td>\n",
       "      <td>NaN</td>\n",
       "      <td>115.0</td>\n",
       "      <td>902.0</td>\n",
       "      <td>Breakfast</td>\n",
       "      <td>73.0</td>\n",
       "      <td>22.0</td>\n",
       "      <td>42.0</td>\n",
       "      <td>7.0</td>\n",
       "      <td>7.2</td>\n",
       "      <td>Type 2 Diabetes</td>\n",
       "      <td>1.0</td>\n",
       "      <td>Moderate</td>\n",
       "    </tr>\n",
       "  </tbody>\n",
       "</table>\n",
       "<p>1600 rows × 15 columns</p>\n",
       "</div>"
      ],
      "text/plain": [
       "        subject           Timestamp    Libre GL  Dexcom GL     HR  Calories  \\\n",
       "233           1 2020-05-01 14:23:00   69.800000      109.4   95.0    1170.0   \n",
       "618           1 2020-05-01 20:48:00   84.800000      114.8   81.0      80.0   \n",
       "825           1 2020-05-02 00:15:00   81.000000       97.4   78.0     110.0   \n",
       "1308          1 2020-05-02 08:18:00   88.400000      101.8   81.0     448.0   \n",
       "1530          1 2020-05-02 12:00:00   82.000000       80.0   84.0     840.0   \n",
       "...         ...                 ...         ...        ...    ...       ...   \n",
       "684069       49 2025-05-19 13:37:00   82.933333       94.8   93.0     445.0   \n",
       "684473       49 2025-05-19 20:21:00   88.466667      106.0   78.0     370.0   \n",
       "685118       49 2025-05-20 07:06:00  138.333333      152.6   81.0     268.0   \n",
       "685465       49 2025-05-20 12:53:00   84.000000      100.0   84.0     725.0   \n",
       "686614       49 2025-05-21 08:02:00  221.400000        NaN  115.0     902.0   \n",
       "\n",
       "        Meal Type  Carbs  Protein   Fat  Fiber  HbA1c  Diabetes Status  \\\n",
       "233         Lunch   85.0     88.0  54.2   12.0    5.4      No Diabetes   \n",
       "618        Dinner   18.0      0.0   0.0    0.0    5.4      No Diabetes   \n",
       "825         Snack   24.0      0.0   2.0    0.0    5.4      No Diabetes   \n",
       "1308    Breakfast   66.0     22.0  10.5    0.0    5.4      No Diabetes   \n",
       "1530        Lunch   89.0     17.0  42.0    3.0    5.4      No Diabetes   \n",
       "...           ...    ...      ...   ...    ...    ...              ...   \n",
       "684069      Lunch   43.0     20.0  20.0   13.0    7.2  Type 2 Diabetes   \n",
       "684473     Dinner   38.0     26.0  12.0    2.0    7.2  Type 2 Diabetes   \n",
       "685118  Breakfast   24.0     22.0  10.5    0.0    7.2  Type 2 Diabetes   \n",
       "685465      Lunch   94.0     44.0  20.0    4.0    7.2  Type 2 Diabetes   \n",
       "686614  Breakfast   73.0     22.0  42.0    7.0    7.2  Type 2 Diabetes   \n",
       "\n",
       "        Gut Lining Health Carb Category  \n",
       "233                   2.0          High  \n",
       "618                   2.0           Low  \n",
       "825                   2.0           Low  \n",
       "1308                  2.0      Moderate  \n",
       "1530                  2.0          High  \n",
       "...                   ...           ...  \n",
       "684069                1.0      Moderate  \n",
       "684473                1.0      Moderate  \n",
       "685118                1.0           Low  \n",
       "685465                1.0          High  \n",
       "686614                1.0      Moderate  \n",
       "\n",
       "[1600 rows x 15 columns]"
      ]
     },
     "execution_count": 39,
     "metadata": {},
     "output_type": "execute_result"
    }
   ],
   "source": [
    "better_meal_df"
   ]
  },
  {
   "cell_type": "code",
   "execution_count": 40,
   "metadata": {},
   "outputs": [
    {
     "data": {
      "text/plain": [
       "array(['Lunch', 'Dinner', 'Snack', 'Breakfast'], dtype=object)"
      ]
     },
     "execution_count": 40,
     "metadata": {},
     "output_type": "execute_result"
    }
   ],
   "source": [
    "better_meal_df['Meal Type'].unique()"
   ]
  },
  {
   "cell_type": "code",
   "execution_count": 41,
   "metadata": {},
   "outputs": [
    {
     "data": {
      "text/plain": [
       "array([2., 1., 3.])"
      ]
     },
     "execution_count": 41,
     "metadata": {},
     "output_type": "execute_result"
    }
   ],
   "source": [
    "better_meal_df['Gut Lining Health'].unique()"
   ]
  },
  {
   "cell_type": "code",
   "execution_count": 42,
   "metadata": {},
   "outputs": [
    {
     "data": {
      "text/plain": [
       "['High', 'Low', 'Moderate', NaN]\n",
       "Categories (3, object): ['Low' < 'Moderate' < 'High']"
      ]
     },
     "execution_count": 42,
     "metadata": {},
     "output_type": "execute_result"
    }
   ],
   "source": [
    "better_meal_df['Carb Category'].unique()"
   ]
  },
  {
   "cell_type": "code",
   "execution_count": 43,
   "metadata": {},
   "outputs": [
    {
     "name": "stdout",
     "output_type": "stream",
     "text": [
      "Carb Category                                Low  Moderate  High\n",
      "Diabetes Status Gut Lining Health Meal Type                     \n",
      "No Diabetes     1.0               Breakfast   14        55     0\n",
      "                                  Dinner      36        40    21\n",
      "                                  Lunch       14        14    41\n",
      "                                  Snack       35        16     5\n",
      "                2.0               Breakfast   10        40     0\n",
      "                                  Dinner      30        20    10\n",
      "                                  Lunch       10        10    29\n",
      "                                  Snack       49        16     3\n",
      "                3.0               Breakfast    4        15     0\n",
      "                                  Dinner       7         3     3\n",
      "                                  Lunch        4         4    11\n",
      "                                  Snack       15         4     2\n",
      "Pre-Diabetes    1.0               Breakfast    8        32     0\n",
      "                                  Dinner       9        20    17\n",
      "                                  Lunch        8         8    24\n",
      "                                  Snack       26        10     0\n",
      "                2.0               Breakfast   15        59     0\n",
      "                                  Dinner      23        32    14\n",
      "                                  Lunch       15        15    40\n",
      "                                  Snack       48        19     4\n",
      "                3.0               Breakfast    6        24     0\n",
      "                                  Dinner      18        23    12\n",
      "                                  Lunch        6         6    18\n",
      "                                  Snack       12         7     1\n",
      "Type 2 Diabetes 1.0               Breakfast    8        29     0\n",
      "                                  Dinner      13        24     3\n",
      "                                  Lunch        8         8    24\n",
      "                                  Snack       12         2     0\n",
      "                2.0               Breakfast   10        40     0\n",
      "                                  Dinner      18        22     5\n",
      "                                  Lunch       10        10    30\n",
      "                                  Snack       26        10     1\n",
      "                3.0               Breakfast    8        29     0\n",
      "                                  Dinner      15        10     4\n",
      "                                  Lunch        8         8    23\n",
      "                                  Snack        2         0     0\n"
     ]
    },
    {
     "name": "stderr",
     "output_type": "stream",
     "text": [
      "C:\\Users\\YooNi\\AppData\\Local\\Temp\\ipykernel_50572\\1517750198.py:1: FutureWarning: The default of observed=False is deprecated and will be changed to True in a future version of pandas. Pass observed=False to retain current behavior or observed=True to adopt the future default and silence this warning.\n",
      "  grouped = better_meal_df.groupby([\"Diabetes Status\", \"Gut Lining Health\", \"Meal Type\", \"Carb Category\"]).size().unstack(fill_value=0)\n"
     ]
    }
   ],
   "source": [
    "grouped = better_meal_df.groupby([\"Diabetes Status\", \"Gut Lining Health\", \"Meal Type\", \"Carb Category\"]).size().unstack(fill_value=0)\n",
    "print(grouped)\n"
   ]
  },
  {
   "cell_type": "code",
   "execution_count": 44,
   "metadata": {},
   "outputs": [
    {
     "data": {
      "text/html": [
       "<div>\n",
       "<style scoped>\n",
       "    .dataframe tbody tr th:only-of-type {\n",
       "        vertical-align: middle;\n",
       "    }\n",
       "\n",
       "    .dataframe tbody tr th {\n",
       "        vertical-align: top;\n",
       "    }\n",
       "\n",
       "    .dataframe thead th {\n",
       "        text-align: right;\n",
       "    }\n",
       "</style>\n",
       "<table border=\"1\" class=\"dataframe\">\n",
       "  <thead>\n",
       "    <tr style=\"text-align: right;\">\n",
       "      <th></th>\n",
       "      <th>subject</th>\n",
       "      <th>Timestamp</th>\n",
       "      <th>Libre GL</th>\n",
       "      <th>Dexcom GL</th>\n",
       "      <th>HR</th>\n",
       "      <th>Calories</th>\n",
       "      <th>Meal Type</th>\n",
       "      <th>Carbs</th>\n",
       "      <th>Protein</th>\n",
       "      <th>Fat</th>\n",
       "      <th>Fiber</th>\n",
       "      <th>HbA1c</th>\n",
       "      <th>Diabetes Status</th>\n",
       "      <th>Gut Lining Health</th>\n",
       "      <th>Carb Category</th>\n",
       "    </tr>\n",
       "  </thead>\n",
       "  <tbody>\n",
       "    <tr>\n",
       "      <th>0</th>\n",
       "      <td>1</td>\n",
       "      <td>2020-05-01 10:30:00</td>\n",
       "      <td>84.000000</td>\n",
       "      <td>NaN</td>\n",
       "      <td>56.0</td>\n",
       "      <td>NaN</td>\n",
       "      <td>NaN</td>\n",
       "      <td>NaN</td>\n",
       "      <td>NaN</td>\n",
       "      <td>NaN</td>\n",
       "      <td>NaN</td>\n",
       "      <td>5.4</td>\n",
       "      <td>No Diabetes</td>\n",
       "      <td>2.0</td>\n",
       "      <td>NaN</td>\n",
       "    </tr>\n",
       "    <tr>\n",
       "      <th>1</th>\n",
       "      <td>1</td>\n",
       "      <td>2020-05-01 10:31:00</td>\n",
       "      <td>84.133333</td>\n",
       "      <td>NaN</td>\n",
       "      <td>56.0</td>\n",
       "      <td>NaN</td>\n",
       "      <td>NaN</td>\n",
       "      <td>NaN</td>\n",
       "      <td>NaN</td>\n",
       "      <td>NaN</td>\n",
       "      <td>NaN</td>\n",
       "      <td>5.4</td>\n",
       "      <td>No Diabetes</td>\n",
       "      <td>2.0</td>\n",
       "      <td>NaN</td>\n",
       "    </tr>\n",
       "    <tr>\n",
       "      <th>2</th>\n",
       "      <td>1</td>\n",
       "      <td>2020-05-01 10:32:00</td>\n",
       "      <td>84.266667</td>\n",
       "      <td>NaN</td>\n",
       "      <td>57.0</td>\n",
       "      <td>NaN</td>\n",
       "      <td>NaN</td>\n",
       "      <td>NaN</td>\n",
       "      <td>NaN</td>\n",
       "      <td>NaN</td>\n",
       "      <td>NaN</td>\n",
       "      <td>5.4</td>\n",
       "      <td>No Diabetes</td>\n",
       "      <td>2.0</td>\n",
       "      <td>NaN</td>\n",
       "    </tr>\n",
       "    <tr>\n",
       "      <th>3</th>\n",
       "      <td>1</td>\n",
       "      <td>2020-05-01 10:33:00</td>\n",
       "      <td>84.400000</td>\n",
       "      <td>NaN</td>\n",
       "      <td>54.0</td>\n",
       "      <td>NaN</td>\n",
       "      <td>NaN</td>\n",
       "      <td>NaN</td>\n",
       "      <td>NaN</td>\n",
       "      <td>NaN</td>\n",
       "      <td>NaN</td>\n",
       "      <td>5.4</td>\n",
       "      <td>No Diabetes</td>\n",
       "      <td>2.0</td>\n",
       "      <td>NaN</td>\n",
       "    </tr>\n",
       "    <tr>\n",
       "      <th>4</th>\n",
       "      <td>1</td>\n",
       "      <td>2020-05-01 10:34:00</td>\n",
       "      <td>84.533333</td>\n",
       "      <td>NaN</td>\n",
       "      <td>55.0</td>\n",
       "      <td>NaN</td>\n",
       "      <td>NaN</td>\n",
       "      <td>NaN</td>\n",
       "      <td>NaN</td>\n",
       "      <td>NaN</td>\n",
       "      <td>NaN</td>\n",
       "      <td>5.4</td>\n",
       "      <td>No Diabetes</td>\n",
       "      <td>2.0</td>\n",
       "      <td>NaN</td>\n",
       "    </tr>\n",
       "    <tr>\n",
       "      <th>...</th>\n",
       "      <td>...</td>\n",
       "      <td>...</td>\n",
       "      <td>...</td>\n",
       "      <td>...</td>\n",
       "      <td>...</td>\n",
       "      <td>...</td>\n",
       "      <td>...</td>\n",
       "      <td>...</td>\n",
       "      <td>...</td>\n",
       "      <td>...</td>\n",
       "      <td>...</td>\n",
       "      <td>...</td>\n",
       "      <td>...</td>\n",
       "      <td>...</td>\n",
       "      <td>...</td>\n",
       "    </tr>\n",
       "    <tr>\n",
       "      <th>687575</th>\n",
       "      <td>49</td>\n",
       "      <td>2025-05-22 00:03:00</td>\n",
       "      <td>262.000000</td>\n",
       "      <td>NaN</td>\n",
       "      <td>NaN</td>\n",
       "      <td>NaN</td>\n",
       "      <td>NaN</td>\n",
       "      <td>NaN</td>\n",
       "      <td>NaN</td>\n",
       "      <td>NaN</td>\n",
       "      <td>NaN</td>\n",
       "      <td>7.2</td>\n",
       "      <td>Type 2 Diabetes</td>\n",
       "      <td>1.0</td>\n",
       "      <td>NaN</td>\n",
       "    </tr>\n",
       "    <tr>\n",
       "      <th>687576</th>\n",
       "      <td>49</td>\n",
       "      <td>2025-05-22 00:04:00</td>\n",
       "      <td>261.600000</td>\n",
       "      <td>NaN</td>\n",
       "      <td>NaN</td>\n",
       "      <td>NaN</td>\n",
       "      <td>NaN</td>\n",
       "      <td>NaN</td>\n",
       "      <td>NaN</td>\n",
       "      <td>NaN</td>\n",
       "      <td>NaN</td>\n",
       "      <td>7.2</td>\n",
       "      <td>Type 2 Diabetes</td>\n",
       "      <td>1.0</td>\n",
       "      <td>NaN</td>\n",
       "    </tr>\n",
       "    <tr>\n",
       "      <th>687577</th>\n",
       "      <td>49</td>\n",
       "      <td>2025-05-22 00:05:00</td>\n",
       "      <td>261.200000</td>\n",
       "      <td>NaN</td>\n",
       "      <td>NaN</td>\n",
       "      <td>NaN</td>\n",
       "      <td>NaN</td>\n",
       "      <td>NaN</td>\n",
       "      <td>NaN</td>\n",
       "      <td>NaN</td>\n",
       "      <td>NaN</td>\n",
       "      <td>7.2</td>\n",
       "      <td>Type 2 Diabetes</td>\n",
       "      <td>1.0</td>\n",
       "      <td>NaN</td>\n",
       "    </tr>\n",
       "    <tr>\n",
       "      <th>687578</th>\n",
       "      <td>49</td>\n",
       "      <td>2025-05-22 00:06:00</td>\n",
       "      <td>260.800000</td>\n",
       "      <td>NaN</td>\n",
       "      <td>NaN</td>\n",
       "      <td>NaN</td>\n",
       "      <td>NaN</td>\n",
       "      <td>NaN</td>\n",
       "      <td>NaN</td>\n",
       "      <td>NaN</td>\n",
       "      <td>NaN</td>\n",
       "      <td>7.2</td>\n",
       "      <td>Type 2 Diabetes</td>\n",
       "      <td>1.0</td>\n",
       "      <td>NaN</td>\n",
       "    </tr>\n",
       "    <tr>\n",
       "      <th>687579</th>\n",
       "      <td>49</td>\n",
       "      <td>2025-05-22 00:07:00</td>\n",
       "      <td>260.400000</td>\n",
       "      <td>NaN</td>\n",
       "      <td>NaN</td>\n",
       "      <td>NaN</td>\n",
       "      <td>NaN</td>\n",
       "      <td>NaN</td>\n",
       "      <td>NaN</td>\n",
       "      <td>NaN</td>\n",
       "      <td>NaN</td>\n",
       "      <td>7.2</td>\n",
       "      <td>Type 2 Diabetes</td>\n",
       "      <td>1.0</td>\n",
       "      <td>NaN</td>\n",
       "    </tr>\n",
       "  </tbody>\n",
       "</table>\n",
       "<p>635185 rows × 15 columns</p>\n",
       "</div>"
      ],
      "text/plain": [
       "        subject           Timestamp    Libre GL  Dexcom GL    HR  Calories  \\\n",
       "0             1 2020-05-01 10:30:00   84.000000        NaN  56.0       NaN   \n",
       "1             1 2020-05-01 10:31:00   84.133333        NaN  56.0       NaN   \n",
       "2             1 2020-05-01 10:32:00   84.266667        NaN  57.0       NaN   \n",
       "3             1 2020-05-01 10:33:00   84.400000        NaN  54.0       NaN   \n",
       "4             1 2020-05-01 10:34:00   84.533333        NaN  55.0       NaN   \n",
       "...         ...                 ...         ...        ...   ...       ...   \n",
       "687575       49 2025-05-22 00:03:00  262.000000        NaN   NaN       NaN   \n",
       "687576       49 2025-05-22 00:04:00  261.600000        NaN   NaN       NaN   \n",
       "687577       49 2025-05-22 00:05:00  261.200000        NaN   NaN       NaN   \n",
       "687578       49 2025-05-22 00:06:00  260.800000        NaN   NaN       NaN   \n",
       "687579       49 2025-05-22 00:07:00  260.400000        NaN   NaN       NaN   \n",
       "\n",
       "       Meal Type  Carbs  Protein  Fat  Fiber  HbA1c  Diabetes Status  \\\n",
       "0            NaN    NaN      NaN  NaN    NaN    5.4      No Diabetes   \n",
       "1            NaN    NaN      NaN  NaN    NaN    5.4      No Diabetes   \n",
       "2            NaN    NaN      NaN  NaN    NaN    5.4      No Diabetes   \n",
       "3            NaN    NaN      NaN  NaN    NaN    5.4      No Diabetes   \n",
       "4            NaN    NaN      NaN  NaN    NaN    5.4      No Diabetes   \n",
       "...          ...    ...      ...  ...    ...    ...              ...   \n",
       "687575       NaN    NaN      NaN  NaN    NaN    7.2  Type 2 Diabetes   \n",
       "687576       NaN    NaN      NaN  NaN    NaN    7.2  Type 2 Diabetes   \n",
       "687577       NaN    NaN      NaN  NaN    NaN    7.2  Type 2 Diabetes   \n",
       "687578       NaN    NaN      NaN  NaN    NaN    7.2  Type 2 Diabetes   \n",
       "687579       NaN    NaN      NaN  NaN    NaN    7.2  Type 2 Diabetes   \n",
       "\n",
       "        Gut Lining Health Carb Category  \n",
       "0                     2.0           NaN  \n",
       "1                     2.0           NaN  \n",
       "2                     2.0           NaN  \n",
       "3                     2.0           NaN  \n",
       "4                     2.0           NaN  \n",
       "...                   ...           ...  \n",
       "687575                1.0           NaN  \n",
       "687576                1.0           NaN  \n",
       "687577                1.0           NaN  \n",
       "687578                1.0           NaN  \n",
       "687579                1.0           NaN  \n",
       "\n",
       "[635185 rows x 15 columns]"
      ]
     },
     "execution_count": 44,
     "metadata": {},
     "output_type": "execute_result"
    }
   ],
   "source": [
    "wee"
   ]
  },
  {
   "cell_type": "code",
   "execution_count": null,
   "metadata": {},
   "outputs": [],
   "source": []
  },
  {
   "cell_type": "code",
   "execution_count": null,
   "metadata": {},
   "outputs": [],
   "source": []
  },
  {
   "cell_type": "code",
   "execution_count": null,
   "metadata": {},
   "outputs": [],
   "source": []
  },
  {
   "cell_type": "code",
   "execution_count": null,
   "metadata": {},
   "outputs": [],
   "source": []
  },
  {
   "cell_type": "code",
   "execution_count": null,
   "metadata": {},
   "outputs": [],
   "source": []
  },
  {
   "cell_type": "code",
   "execution_count": null,
   "metadata": {},
   "outputs": [],
   "source": []
  },
  {
   "cell_type": "code",
   "execution_count": 13,
   "metadata": {},
   "outputs": [
    {
     "data": {
      "image/png": "[encoded data removed]",
      "text/plain": [
       "<Figure size 1000x600 with 1 Axes>"
      ]
     },
     "metadata": {},
     "output_type": "display_data"
    }
   ],
   "source": [
    "# Remove rows where 'Meal Type' is missing\n",
    "meal_df = merged_data.dropna(subset=['Meal Type'])\n",
    "\n",
    "meal_macros = meal_df.groupby(['Diabetes Status', 'Meal Type'])[['Carbs', 'Protein', 'Fat']].sum()\n",
    "\n",
    "meal_macros.plot(kind=\"bar\", stacked=True, figsize=(10, 6), colormap=\"viridis\")\n",
    "plt.xlabel(\"Meal Type\")\n",
    "plt.ylabel(\"Total Macronutrients (g)\")\n",
    "plt.title(\"Macronutrient Intake by Meal Type\")\n",
    "plt.legend(title=\"Macronutrient\")\n",
    "plt.xticks(rotation=45)\n",
    "plt.show()"
   ]
  },
  {
   "cell_type": "code",
   "execution_count": 22,
   "metadata": {},
   "outputs": [
    {
     "data": {
      "image/png": "[encoded data removed]",
      "text/plain": [
       "<Figure size 1200x600 with 1 Axes>"
      ]
     },
     "metadata": {},
     "output_type": "display_data"
    }
   ],
   "source": [
    "import matplotlib.pyplot as plt\n",
    "import pandas as pd\n",
    "\n",
    "meal_df = merged_data.dropna(subset=['Meal Type', 'Diabetes Status'])\n",
    "\n",
    "meal_macros = meal_df.groupby(['Meal Type', 'Diabetes Status'])[['Carbs', 'Protein', 'Fat']].sum()\n",
    "\n",
    "meal_macros = meal_macros.unstack(level=1)\n",
    "\n",
    "colors = {\"Carbs\": \"#1f77b4\", \"Protein\": \"#ff7f0e\", \"Fat\": \"#2ca02c\"}\n",
    "\n",
    "fig, ax = plt.subplots(figsize=(12, 6))\n",
    "\n",
    "meal_macros.plot(kind=\"bar\", stacked=True, colormap=\"viridis\", ax=ax)\n",
    "\n",
    "plt.xlabel(\"Meal Type\")\n",
    "plt.ylabel(\"Total Macronutrients (g)\")\n",
    "plt.title(\"Macronutrient Intake by Meal Type and Diabetes Status\")\n",
    "plt.legend(title=\"Macronutrient & Diabetes Status\", bbox_to_anchor=(1.05, 1), loc=\"upper left\")\n",
    "plt.xticks(rotation=45)\n",
    "plt.tight_layout()\n",
    "plt.show()\n"
   ]
  },
  {
   "cell_type": "code",
   "execution_count": 23,
   "metadata": {},
   "outputs": [
    {
     "data": {
      "image/png": "[encoded data removed]",
      "text/plain": [
       "<Figure size 1800x600 with 1 Axes>"
      ]
     },
     "metadata": {},
     "output_type": "display_data"
    }
   ],
   "source": [
    "meal_diabetes_df = merged_data.copy()\n",
    "\n",
    "meal_diabetes_df = meal_diabetes_df.sort_values(by=[\"Diabetes Status\", \"subject\"])\n",
    "\n",
    "meal_counts = meal_diabetes_df.groupby([\"subject\", \"Meal Type\"]).size().reset_index(name=\"Count\")\n",
    "\n",
    "subject_diabetes_status = meal_diabetes_df[[\"subject\", \"Diabetes Status\"]].drop_duplicates()\n",
    "\n",
    "meal_counts = meal_counts.merge(subject_diabetes_status, on=\"subject\", how=\"left\")\n",
    "\n",
    "sorted_subjects = meal_counts.sort_values(by=[\"Diabetes Status\", \"subject\"])[\"subject\"].unique()\n",
    "meal_counts[\"subject\"] = pd.Categorical(meal_counts[\"subject\"], categories=sorted_subjects, ordered=True)\n",
    "\n",
    "sns.set(style=\"whitegrid\")\n",
    "plt.figure(figsize=(18, 6))\n",
    "\n",
    "sns.barplot(data=meal_counts, x=\"subject\", y=\"Count\", hue=\"Meal Type\", palette=\"tab10\")\n",
    "\n",
    "diabetes_groups = meal_counts.groupby(\"Diabetes Status\")[\"subject\"].unique()\n",
    "boundaries = []\n",
    "last_index = 0\n",
    "for group in [\"No Diabetes\", \"Pre-Diabetes\", \"Type 2 Diabetes\"]:\n",
    "    if group in diabetes_groups:\n",
    "        last_index += len(diabetes_groups[group])\n",
    "        boundaries.append(last_index - 0.5) \n",
    "\n",
    "for boundary in boundaries[:-1]: \n",
    "    plt.axvline(x=boundary, color=\"black\", linestyle=\"--\", linewidth=1.5)\n",
    "\n",
    "midpoints = [0] + boundaries[:-1]  \n",
    "labels = [\"No Diabetes\", \"Pre-Diabetes\", \"Type 2 Diabetes\"]\n",
    "for i, label in enumerate(labels):\n",
    "    if i < len(boundaries):\n",
    "        x_pos = (midpoints[i] + boundaries[i]) / 2\n",
    "        plt.text(x_pos, plt.ylim()[1] * 0.9, label, ha=\"center\", fontsize=12, fontweight=\"bold\", color=\"black\")\n",
    "\n",
    "plt.xticks(rotation=90, fontsize=10)\n",
    "plt.xlabel(\"Participant (Subject ID)\", fontsize=12)\n",
    "plt.ylabel(\"Number of Meals\", fontsize=12)\n",
    "plt.title(\"Meal Type Count per Participant with Diabetes Classification For 10 days\", fontsize=14)\n",
    "plt.legend(title=\"Meal Type\", fontsize=10)\n",
    "\n",
    "plt.show()\n"
   ]
  },
  {
   "cell_type": "code",
   "execution_count": null,
   "metadata": {},
   "outputs": [
    {
     "data": {
      "application/vnd.plotly.v1+json": {
       "config": {
        "plotlyServerURL": "https://plot.ly"
       },
       "data": [
        {
         "hovertemplate": "Diabetes Status=No Diabetes<br>Calories Burned=%{x}<br>Glucose Level (mg/dL)=%{y}<extra></extra>",
         "legendgroup": "No Diabetes",
         "marker": {
          "color": "#636efa",
          "symbol": "circle"
         },
         "mode": "markers",
         "name": "No Diabetes",
         "showlegend": true,
         "type": "scattergl",
         "x": {
          "bdata": "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",
          "dtype": "f8"
         },
         "xaxis": "x",
         "y": {
          "bdata": "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",
          "dtype": "f8"
         },
         "yaxis": "y"
        },
        {
         "hovertemplate": "Diabetes Status=Type 2 Diabetes<br>Calories Burned=%{x}<br>Glucose Level (mg/dL)=%{y}<extra></extra>",
         "legendgroup": "Type 2 Diabetes",
         "marker": {
          "color": "#EF553B",
          "symbol": "circle"
         },
         "mode": "markers",
         "name": "Type 2 Diabetes",
         "showlegend": true,
         "type": "scattergl",
         "x": {
          "bdata": "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",
          "dtype": "f8"
         },
         "xaxis": "x",
         "y": {
          "bdata": "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",
          "dtype": "f8"
         },
         "yaxis": "y"
        },
        {
         "hovertemplate": "Diabetes Status=Pre-Diabetes<br>Calories Burned=%{x}<br>Glucose Level (mg/dL)=%{y}<extra></extra>",
         "legendgroup": "Pre-Diabetes",
         "marker": {
          "color": "#00cc96",
          "symbol": "circle"
         },
         "mode": "markers",
         "name": "Pre-Diabetes",
         "showlegend": true,
         "type": "scattergl",
         "x": {
          "bdata": "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",
          "dtype": "f8"
         },
         "xaxis": "x",
         "y": {
          "bdata": "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",
          "dtype": "f8"
         },
         "yaxis": "y"
        }
       ],
       "layout": {
        "legend": {
         "title": {
          "text": "Diabetes Status"
         },
         "tracegroupgap": 0
        },
        "template": {
         "data": {
          "bar": [
           {
            "error_x": {
             "color": "#2a3f5f"
            },
            "error_y": {
             "color": "#2a3f5f"
            },
            "marker": {
             "line": {
              "color": "#E5ECF6",
              "width": 0.5
             },
             "pattern": {
              "fillmode": "overlay",
              "size": 10,
              "solidity": 0.2
             }
            },
            "type": "bar"
           }
          ],
          "barpolar": [
           {
            "marker": {
             "line": {
              "color": "#E5ECF6",
              "width": 0.5
             },
             "pattern": {
              "fillmode": "overlay",
              "size": 10,
              "solidity": 0.2
             }
            },
            "type": "barpolar"
           }
          ],
          "carpet": [
           {
            "aaxis": {
             "endlinecolor": "#2a3f5f",
             "gridcolor": "white",
             "linecolor": "white",
             "minorgridcolor": "white",
             "startlinecolor": "#2a3f5f"
            },
            "baxis": {
             "endlinecolor": "#2a3f5f",
             "gridcolor": "white",
             "linecolor": "white",
             "minorgridcolor": "white",
             "startlinecolor": "#2a3f5f"
            },
            "type": "carpet"
           }
          ],
          "choropleth": [
           {
            "colorbar": {
             "outlinewidth": 0,
             "ticks": ""
            },
            "type": "choropleth"
           }
          ],
          "contour": [
           {
            "colorbar": {
             "outlinewidth": 0,
             "ticks": ""
            },
            "colorscale": [
             [
              0,
              "#0d0887"
             ],
             [
              0.1111111111111111,
              "#46039f"
             ],
             [
              0.2222222222222222,
              "#7201a8"
             ],
             [
              0.3333333333333333,
              "#9c179e"
             ],
             [
              0.4444444444444444,
              "#bd3786"
             ],
             [
              0.5555555555555556,
              "#d8576b"
             ],
             [
              0.6666666666666666,
              "#ed7953"
             ],
             [
              0.7777777777777778,
              "#fb9f3a"
             ],
             [
              0.8888888888888888,
              "#fdca26"
             ],
             [
              1,
              "#f0f921"
             ]
            ],
            "type": "contour"
           }
          ],
          "contourcarpet": [
           {
            "colorbar": {
             "outlinewidth": 0,
             "ticks": ""
            },
            "type": "contourcarpet"
           }
          ],
          "heatmap": [
           {
            "colorbar": {
             "outlinewidth": 0,
             "ticks": ""
            },
            "colorscale": [
             [
              0,
              "#0d0887"
             ],
             [
              0.1111111111111111,
              "#46039f"
             ],
             [
              0.2222222222222222,
              "#7201a8"
             ],
             [
              0.3333333333333333,
              "#9c179e"
             ],
             [
              0.4444444444444444,
              "#bd3786"
             ],
             [
              0.5555555555555556,
              "#d8576b"
             ],
             [
              0.6666666666666666,
              "#ed7953"
             ],
             [
              0.7777777777777778,
              "#fb9f3a"
             ],
             [
              0.8888888888888888,
              "#fdca26"
             ],
             [
              1,
              "#f0f921"
             ]
            ],
            "type": "heatmap"
           }
          ],
          "histogram": [
           {
            "marker": {
             "pattern": {
              "fillmode": "overlay",
              "size": 10,
              "solidity": 0.2
             }
            },
            "type": "histogram"
           }
          ],
          "histogram2d": [
           {
            "colorbar": {
             "outlinewidth": 0,
             "ticks": ""
            },
            "colorscale": [
             [
              0,
              "#0d0887"
             ],
             [
              0.1111111111111111,
              "#46039f"
             ],
             [
              0.2222222222222222,
              "#7201a8"
             ],
             [
              0.3333333333333333,
              "#9c179e"
             ],
             [
              0.4444444444444444,
              "#bd3786"
             ],
             [
              0.5555555555555556,
              "#d8576b"
             ],
             [
              0.6666666666666666,
              "#ed7953"
             ],
             [
              0.7777777777777778,
              "#fb9f3a"
             ],
             [
              0.8888888888888888,
              "#fdca26"
             ],
             [
              1,
              "#f0f921"
             ]
            ],
            "type": "histogram2d"
           }
          ],
          "histogram2dcontour": [
           {
            "colorbar": {
             "outlinewidth": 0,
             "ticks": ""
            },
            "colorscale": [
             [
              0,
              "#0d0887"
             ],
             [
              0.1111111111111111,
              "#46039f"
             ],
             [
              0.2222222222222222,
              "#7201a8"
             ],
             [
              0.3333333333333333,
              "#9c179e"
             ],
             [
              0.4444444444444444,
              "#bd3786"
             ],
             [
              0.5555555555555556,
              "#d8576b"
             ],
             [
              0.6666666666666666,
              "#ed7953"
             ],
             [
              0.7777777777777778,
              "#fb9f3a"
             ],
             [
              0.8888888888888888,
              "#fdca26"
             ],
             [
              1,
              "#f0f921"
             ]
            ],
            "type": "histogram2dcontour"
           }
          ],
          "mesh3d": [
           {
            "colorbar": {
             "outlinewidth": 0,
             "ticks": ""
            },
            "type": "mesh3d"
           }
          ],
          "parcoords": [
           {
            "line": {
             "colorbar": {
              "outlinewidth": 0,
              "ticks": ""
             }
            },
            "type": "parcoords"
           }
          ],
          "pie": [
           {
            "automargin": true,
            "type": "pie"
           }
          ],
          "scatter": [
           {
            "fillpattern": {
             "fillmode": "overlay",
             "size": 10,
             "solidity": 0.2
            },
            "type": "scatter"
           }
          ],
          "scatter3d": [
           {
            "line": {
             "colorbar": {
              "outlinewidth": 0,
              "ticks": ""
             }
            },
            "marker": {
             "colorbar": {
              "outlinewidth": 0,
              "ticks": ""
             }
            },
            "type": "scatter3d"
           }
          ],
          "scattercarpet": [
           {
            "marker": {
             "colorbar": {
              "outlinewidth": 0,
              "ticks": ""
             }
            },
            "type": "scattercarpet"
           }
          ],
          "scattergeo": [
           {
            "marker": {
             "colorbar": {
              "outlinewidth": 0,
              "ticks": ""
             }
            },
            "type": "scattergeo"
           }
          ],
          "scattergl": [
           {
            "marker": {
             "colorbar": {
              "outlinewidth": 0,
              "ticks": ""
             }
            },
            "type": "scattergl"
           }
          ],
          "scattermap": [
           {
            "marker": {
             "colorbar": {
              "outlinewidth": 0,
              "ticks": ""
             }
            },
            "type": "scattermap"
           }
          ],
          "scattermapbox": [
           {
            "marker": {
             "colorbar": {
              "outlinewidth": 0,
              "ticks": ""
             }
            },
            "type": "scattermapbox"
           }
          ],
          "scatterpolar": [
           {
            "marker": {
             "colorbar": {
              "outlinewidth": 0,
              "ticks": ""
             }
            },
            "type": "scatterpolar"
           }
          ],
          "scatterpolargl": [
           {
            "marker": {
             "colorbar": {
              "outlinewidth": 0,
              "ticks": ""
             }
            },
            "type": "scatterpolargl"
           }
          ],
          "scatterternary": [
           {
            "marker": {
             "colorbar": {
              "outlinewidth": 0,
              "ticks": ""
             }
            },
            "type": "scatterternary"
           }
          ],
          "surface": [
           {
            "colorbar": {
             "outlinewidth": 0,
             "ticks": ""
            },
            "colorscale": [
             [
              0,
              "#0d0887"
             ],
             [
              0.1111111111111111,
              "#46039f"
             ],
             [
              0.2222222222222222,
              "#7201a8"
             ],
             [
              0.3333333333333333,
              "#9c179e"
             ],
             [
              0.4444444444444444,
              "#bd3786"
             ],
             [
              0.5555555555555556,
              "#d8576b"
             ],
             [
              0.6666666666666666,
              "#ed7953"
             ],
             [
              0.7777777777777778,
              "#fb9f3a"
             ],
             [
              0.8888888888888888,
              "#fdca26"
             ],
             [
              1,
              "#f0f921"
             ]
            ],
            "type": "surface"
           }
          ],
          "table": [
           {
            "cells": {
             "fill": {
              "color": "#EBF0F8"
             },
             "line": {
              "color": "white"
             }
            },
            "header": {
             "fill": {
              "color": "#C8D4E3"
             },
             "line": {
              "color": "white"
             }
            },
            "type": "table"
           }
          ]
         },
         "layout": {
          "annotationdefaults": {
           "arrowcolor": "#2a3f5f",
           "arrowhead": 0,
           "arrowwidth": 1
          },
          "autotypenumbers": "strict",
          "coloraxis": {
           "colorbar": {
            "outlinewidth": 0,
            "ticks": ""
           }
          },
          "colorscale": {
           "diverging": [
            [
             0,
             "#8e0152"
            ],
            [
             0.1,
             "#c51b7d"
            ],
            [
             0.2,
             "#de77ae"
            ],
            [
             0.3,
             "#f1b6da"
            ],
            [
             0.4,
             "#fde0ef"
            ],
            [
             0.5,
             "#f7f7f7"
            ],
            [
             0.6,
             "#e6f5d0"
            ],
            [
             0.7,
             "#b8e186"
            ],
            [
             0.8,
             "#7fbc41"
            ],
            [
             0.9,
             "#4d9221"
            ],
            [
             1,
             "#276419"
            ]
           ],
           "sequential": [
            [
             0,
             "#0d0887"
            ],
            [
             0.1111111111111111,
             "#46039f"
            ],
            [
             0.2222222222222222,
             "#7201a8"
            ],
            [
             0.3333333333333333,
             "#9c179e"
            ],
            [
             0.4444444444444444,
             "#bd3786"
            ],
            [
             0.5555555555555556,
             "#d8576b"
            ],
            [
             0.6666666666666666,
             "#ed7953"
            ],
            [
             0.7777777777777778,
             "#fb9f3a"
            ],
            [
             0.8888888888888888,
             "#fdca26"
            ],
            [
             1,
             "#f0f921"
            ]
           ],
           "sequentialminus": [
            [
             0,
             "#0d0887"
            ],
            [
             0.1111111111111111,
             "#46039f"
            ],
            [
             0.2222222222222222,
             "#7201a8"
            ],
            [
             0.3333333333333333,
             "#9c179e"
            ],
            [
             0.4444444444444444,
             "#bd3786"
            ],
            [
             0.5555555555555556,
             "#d8576b"
            ],
            [
             0.6666666666666666,
             "#ed7953"
            ],
            [
             0.7777777777777778,
             "#fb9f3a"
            ],
            [
             0.8888888888888888,
             "#fdca26"
            ],
            [
             1,
             "#f0f921"
            ]
           ]
          },
          "colorway": [
           "#636efa",
           "#EF553B",
           "#00cc96",
           "#ab63fa",
           "#FFA15A",
           "#19d3f3",
           "#FF6692",
           "#B6E880",
           "#FF97FF",
           "#FECB52"
          ],
          "font": {
           "color": "#2a3f5f"
          },
          "geo": {
           "bgcolor": "white",
           "lakecolor": "white",
           "landcolor": "#E5ECF6",
           "showlakes": true,
           "showland": true,
           "subunitcolor": "white"
          },
          "hoverlabel": {
           "align": "left"
          },
          "hovermode": "closest",
          "mapbox": {
           "style": "light"
          },
          "paper_bgcolor": "white",
          "plot_bgcolor": "#E5ECF6",
          "polar": {
           "angularaxis": {
            "gridcolor": "white",
            "linecolor": "white",
            "ticks": ""
           },
           "bgcolor": "#E5ECF6",
           "radialaxis": {
            "gridcolor": "white",
            "linecolor": "white",
            "ticks": ""
           }
          },
          "scene": {
           "xaxis": {
            "backgroundcolor": "#E5ECF6",
            "gridcolor": "white",
            "gridwidth": 2,
            "linecolor": "white",
            "showbackground": true,
            "ticks": "",
            "zerolinecolor": "white"
           },
           "yaxis": {
            "backgroundcolor": "#E5ECF6",
            "gridcolor": "white",
            "gridwidth": 2,
            "linecolor": "white",
            "showbackground": true,
            "ticks": "",
            "zerolinecolor": "white"
           },
           "zaxis": {
            "backgroundcolor": "#E5ECF6",
            "gridcolor": "white",
            "gridwidth": 2,
            "linecolor": "white",
            "showbackground": true,
            "ticks": "",
            "zerolinecolor": "white"
           }
          },
          "shapedefaults": {
           "line": {
            "color": "#2a3f5f"
           }
          },
          "ternary": {
           "aaxis": {
            "gridcolor": "white",
            "linecolor": "white",
            "ticks": ""
           },
           "baxis": {
            "gridcolor": "white",
            "linecolor": "white",
            "ticks": ""
           },
           "bgcolor": "#E5ECF6",
           "caxis": {
            "gridcolor": "white",
            "linecolor": "white",
            "ticks": ""
           }
          },
          "title": {
           "x": 0.05
          },
          "xaxis": {
           "automargin": true,
           "gridcolor": "white",
           "linecolor": "white",
           "ticks": "",
           "title": {
            "standoff": 15
           },
           "zerolinecolor": "white",
           "zerolinewidth": 2
          },
          "yaxis": {
           "automargin": true,
           "gridcolor": "white",
           "linecolor": "white",
           "ticks": "",
           "title": {
            "standoff": 15
           },
           "zerolinecolor": "white",
           "zerolinewidth": 2
          }
         }
        },
        "title": {
         "text": "Calories Burned vs. Glucose Levels"
        },
        "xaxis": {
         "anchor": "y",
         "domain": [
          0,
          1
         ],
         "title": {
          "text": "Calories Burned"
         }
        },
        "yaxis": {
         "anchor": "x",
         "domain": [
          0,
          1
         ],
         "title": {
          "text": "Glucose Level (mg/dL)"
         }
        }
       }
      }
     },
     "metadata": {},
     "output_type": "display_data"
    }
   ],
   "source": [
    "import plotly.express as px\n",
    "\n",
    "scatter_df = merged_data.dropna(subset=['Calories', 'Libre GL', 'Diabetes Status'])\n",
    "\n",
    "fig = px.scatter(scatter_df, x=\"Calories\", y=\"Libre GL\", \n",
    "                 color=\"Diabetes Status\", \n",
    "                 title=\"Calories Burned vs. Glucose Levels\",\n",
    "                 labels={\"Calories\": \"Calories Burned\", \"Libre GL\": \"Glucose Level (mg/dL)\"},\n",
    "                 template=\"plotly\")\n",
    "\n",
    "fig.show()"
   ]
  },
  {
   "cell_type": "code",
   "execution_count": 37,
   "metadata": {},
   "outputs": [
    {
     "data": {
      "image/png": "[encoded data removed]",
      "text/plain": [
       "<Figure size 800x600 with 1 Axes>"
      ]
     },
     "metadata": {},
     "output_type": "display_data"
    }
   ],
   "source": [
    "import warnings\n",
    "warnings.filterwarnings(\"ignore\")\n",
    "\n",
    "plt.figure(figsize=(8, 6))\n",
    "sns.boxplot(data=merged_data, x=\"Diabetes Status\", y=\"HbA1c\", palette=\"coolwarm\")\n",
    "\n",
    "plt.xlabel(\"Diabetes Status\")\n",
    "plt.ylabel(\"HbA1c Level (%)\")\n",
    "plt.title(\"HbA1c Levels Across Diabetes Groups\")\n",
    "plt.show()"
   ]
  },
  {
   "cell_type": "code",
   "execution_count": 39,
   "metadata": {},
   "outputs": [
    {
     "data": {
      "image/png": "[encoded data removed]",
      "text/plain": [
       "<Figure size 800x600 with 2 Axes>"
      ]
     },
     "metadata": {},
     "output_type": "display_data"
    }
   ],
   "source": [
    "import seaborn as sns\n",
    "\n",
    "corr_data = merged_data[['Libre GL', 'Dexcom GL', 'HR', 'Calories', 'Carbs', 'Protein', 'Fat', 'Fiber', 'HbA1c']].dropna()\n",
    "\n",
    "corr_matrix = corr_data.corr()\n",
    "\n",
    "plt.figure(figsize=(8, 6))\n",
    "sns.heatmap(corr_matrix, annot=True, cmap=\"coolwarm\", fmt=\".2f\", linewidths=0.5)\n",
    "\n",
    "plt.title(\"Correlation Between Macronutrients, Glucose, and Heart Rate\")\n",
    "plt.show()"
   ]
  },
  {
   "cell_type": "code",
   "execution_count": null,
   "metadata": {},
   "outputs": [],
   "source": []
  }
 ],
 "metadata": {
  "kernelspec": {
   "display_name": "base",
   "language": "python",
   "name": "python3"
  },
  "language_info": {
   "codemirror_mode": {
    "name": "ipython",
    "version": 3
   },
   "file_extension": ".py",
   "mimetype": "text/x-python",
   "name": "python",
   "nbconvert_exporter": "python",
   "pygments_lexer": "ipython3",
   "version": "3.10.14"
  }
 },
 "nbformat": 4,
 "nbformat_minor": 2
}
